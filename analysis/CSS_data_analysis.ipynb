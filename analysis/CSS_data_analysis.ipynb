{
 "cells": [
  {
   "cell_type": "code",
   "execution_count": 2,
   "metadata": {
    "colab": {
     "base_uri": "https://localhost:8080/"
    },
    "id": "dTHVM4IpEW3Q",
    "outputId": "a6b6ac0d-aa15-478b-89df-01f622f79660"
   },
   "outputs": [],
   "source": [
    "import pandas as pd\n",
    "import matplotlib.pyplot as plt\n",
    "import os"
   ]
  },
  {
   "cell_type": "code",
   "execution_count": null,
   "metadata": {},
   "outputs": [],
   "source": [
    "css1 = pd.read_csv('density=0.01.csv')\n",
    "css1.head()\n",
    "css1.shape"
   ]
  },
  {
   "cell_type": "code",
   "execution_count": 2,
   "metadata": {
    "colab": {
     "base_uri": "https://localhost:8080/"
    },
    "id": "9J3K2PBQFpmD",
    "outputId": "9508d3ca-245a-454d-e62f-2dcb174c03cf"
   },
   "outputs": [
    {
     "data": {
      "text/plain": [
       "Index(['timestep', 'agent_0_x', 'agent_0_y', 'agent_0_orig_distance',\n",
       "       'agent_1_x', 'agent_1_y', 'agent_1_orig_distance', 'agent_2_x',\n",
       "       'agent_2_y', 'agent_2_orig_distance', 'agent_3_x', 'agent_3_y',\n",
       "       'agent_3_orig_distance', 'agent_4_x', 'agent_4_y',\n",
       "       'agent_4_orig_distance', 'agent_5_x', 'agent_5_y',\n",
       "       'agent_5_orig_distance', 'agent_6_x', 'agent_6_y',\n",
       "       'agent_6_orig_distance', 'agent_7_x', 'agent_7_y',\n",
       "       'agent_7_orig_distance', 'agent_8_x', 'agent_8_y',\n",
       "       'agent_8_orig_distance', 'agent_9_x', 'agent_9_y',\n",
       "       'agent_9_orig_distance', 'agent_10_x', 'agent_10_y',\n",
       "       'agent_10_orig_distance', 'agent_11_x', 'agent_11_y',\n",
       "       'agent_11_orig_distance', 'agent_12_x', 'agent_12_y',\n",
       "       'agent_12_orig_distance', 'gate0_x', 'gate0_y', 'gate0_orig_distance',\n",
       "       'gate1_x', 'gate1_y', 'gate1_orig_distance'],\n",
       "      dtype='object')"
      ]
     },
     "execution_count": 2,
     "metadata": {},
     "output_type": "execute_result"
    }
   ],
   "source": [
    "css1.columns"
   ]
  },
  {
   "cell_type": "code",
   "execution_count": 6,
   "metadata": {
    "colab": {
     "base_uri": "https://localhost:8080/",
     "height": 229
    },
    "id": "W3L5fWGaFyGf",
    "outputId": "3bcc855d-012c-4bdf-c037-f60c63abb061"
   },
   "outputs": [
    {
     "name": "stdout",
     "output_type": "stream",
     "text": [
      "agent_1_x\n",
      "agent_2_x\n",
      "agent_3_x\n",
      "agent_4_x\n",
      "agent_5_x\n",
      "agent_6_x\n",
      "agent_7_x\n",
      "agent_8_x\n",
      "agent_9_x\n",
      "agent_10_x\n",
      "agent_11_x\n",
      "agent_12_x\n",
      "['agent_0_x', 'agent_1_x', 'agent_2_x', 'agent_3_x', 'agent_4_x', 'agent_5_x', 'agent_6_x', 'agent_7_x', 'agent_8_x', 'agent_9_x', 'agent_10_x', 'agent_11_x', 'agent_12_x']\n"
     ]
    }
   ],
   "source": [
    "column_x = []\n",
    "column_x.append('agent_0_x')\n",
    "\n",
    "for i in range(1,37,3):\n",
    "  i=i+3\n",
    "  print(css1.columns[i])\n",
    "  column_x.append(css1.columns[i])\n",
    "print(column_x)"
   ]
  },
  {
   "cell_type": "code",
   "execution_count": 7,
   "metadata": {
    "id": "Fc0wkZ9QucPY"
   },
   "outputs": [
    {
     "name": "stdout",
     "output_type": "stream",
     "text": [
      "[879, 693, 634, 0, 806, 557, 530, 608, 485, 436, 744, 377, 321]\n"
     ]
    },
    {
     "data": {
      "text/plain": [
       "13"
      ]
     },
     "execution_count": 7,
     "metadata": {},
     "output_type": "execute_result"
    }
   ],
   "source": [
    "nan_list = []\n",
    "for x in column_x:\n",
    "  nan_list.append(css1[x].isna().idxmax(1))\n",
    "print(nan_list)\n",
    "len(nan_list)"
   ]
  },
  {
   "cell_type": "code",
   "execution_count": 10,
   "metadata": {
    "id": "OQP5CsyF3Lzc"
   },
   "outputs": [
    {
     "data": {
      "text/html": [
       "<div>\n",
       "<style scoped>\n",
       "    .dataframe tbody tr th:only-of-type {\n",
       "        vertical-align: middle;\n",
       "    }\n",
       "\n",
       "    .dataframe tbody tr th {\n",
       "        vertical-align: top;\n",
       "    }\n",
       "\n",
       "    .dataframe thead th {\n",
       "        text-align: right;\n",
       "    }\n",
       "</style>\n",
       "<table border=\"1\" class=\"dataframe\">\n",
       "  <thead>\n",
       "    <tr style=\"text-align: right;\">\n",
       "      <th></th>\n",
       "      <th>timestep</th>\n",
       "      <th>agent</th>\n",
       "    </tr>\n",
       "  </thead>\n",
       "  <tbody>\n",
       "    <tr>\n",
       "      <th>0</th>\n",
       "      <td>879</td>\n",
       "      <td>1</td>\n",
       "    </tr>\n",
       "    <tr>\n",
       "      <th>1</th>\n",
       "      <td>693</td>\n",
       "      <td>2</td>\n",
       "    </tr>\n",
       "    <tr>\n",
       "      <th>2</th>\n",
       "      <td>634</td>\n",
       "      <td>3</td>\n",
       "    </tr>\n",
       "    <tr>\n",
       "      <th>3</th>\n",
       "      <td>0</td>\n",
       "      <td>4</td>\n",
       "    </tr>\n",
       "    <tr>\n",
       "      <th>4</th>\n",
       "      <td>806</td>\n",
       "      <td>5</td>\n",
       "    </tr>\n",
       "    <tr>\n",
       "      <th>5</th>\n",
       "      <td>557</td>\n",
       "      <td>6</td>\n",
       "    </tr>\n",
       "    <tr>\n",
       "      <th>6</th>\n",
       "      <td>530</td>\n",
       "      <td>7</td>\n",
       "    </tr>\n",
       "    <tr>\n",
       "      <th>7</th>\n",
       "      <td>608</td>\n",
       "      <td>8</td>\n",
       "    </tr>\n",
       "    <tr>\n",
       "      <th>8</th>\n",
       "      <td>485</td>\n",
       "      <td>9</td>\n",
       "    </tr>\n",
       "    <tr>\n",
       "      <th>9</th>\n",
       "      <td>436</td>\n",
       "      <td>10</td>\n",
       "    </tr>\n",
       "    <tr>\n",
       "      <th>10</th>\n",
       "      <td>744</td>\n",
       "      <td>11</td>\n",
       "    </tr>\n",
       "    <tr>\n",
       "      <th>11</th>\n",
       "      <td>377</td>\n",
       "      <td>12</td>\n",
       "    </tr>\n",
       "    <tr>\n",
       "      <th>12</th>\n",
       "      <td>321</td>\n",
       "      <td>13</td>\n",
       "    </tr>\n",
       "  </tbody>\n",
       "</table>\n",
       "</div>"
      ],
      "text/plain": [
       "    timestep  agent\n",
       "0        879      1\n",
       "1        693      2\n",
       "2        634      3\n",
       "3          0      4\n",
       "4        806      5\n",
       "5        557      6\n",
       "6        530      7\n",
       "7        608      8\n",
       "8        485      9\n",
       "9        436     10\n",
       "10       744     11\n",
       "11       377     12\n",
       "12       321     13"
      ]
     },
     "execution_count": 10,
     "metadata": {},
     "output_type": "execute_result"
    }
   ],
   "source": [
    "df_nan = pd.DataFrame(nan_list)\n",
    "df_nan['agent']=df_nan.index+1\n",
    "df_nan.columns=['timestep','agent']\n",
    "df_nan"
   ]
  },
  {
   "cell_type": "code",
   "execution_count": 14,
   "metadata": {
    "id": "ttlJbdzt445M"
   },
   "outputs": [
    {
     "data": {
      "image/png": "[encoded data removed]",
      "text/plain": [
       "<Figure size 432x288 with 1 Axes>"
      ]
     },
     "metadata": {
      "needs_background": "light"
     },
     "output_type": "display_data"
    }
   ],
   "source": [
    "df_nan.plot(x='agent',y='timestep',kind='scatter')\n",
    "plt.show()"
   ]
  },
  {
   "cell_type": "code",
   "execution_count": 48,
   "metadata": {
    "id": "vy8ac8qf1Du6"
   },
   "outputs": [
    {
     "output_type": "stream",
     "name": "stdout",
     "text": [
      "[703, 872, 1043, 479, 316, 669, 801, 611, 408, 751, 926, 846, 975]\n[60.12904388032896, 71.86126766005205, 87.18992208947756, 38.13508438602441, 21.713529505444523, 66.04297523583541, 67.94884075757038, 53.133755027940005, 32.82332876531412, 69.29275991943503, 74.09966493294898, 69.42855599735451, 82.99618675684097]\n"
     ]
    }
   ],
   "source": [
    "\"\"\"\n",
    "density\n",
    "\"\"\"\n",
    "directory = \"data/log/density/10runs0-0.2/\"\n",
    "# for filename in os.listdir(directory):\n",
    "#     print(filename)\n",
    "\n",
    "filename = \"density=0.01.i=3.csv\"\n",
    "df = pd.read_csv(f'data/log/density/10runs0-0.2/{filename}')\n",
    "\n",
    "for column in df.columns:\n",
    "    if 'gate' in column:\n",
    "        df = df.drop(columns=column)\n",
    "\n",
    "orig_dist = df.filter(regex='distance')\n",
    "orig_dist = list(orig_dist.iloc[1])\n",
    "\n",
    "# for column in df.columns:\n",
    "#     if 'distance' in column:\n",
    "#         df = df.drop(columns=column)\n",
    "\n",
    "df.columns\n",
    "\n",
    "nans = []\n",
    "# df['agent_0_x'].isna().idxmax(1)\n",
    "for i in range(1, len(df.columns), 3):\n",
    "    # start with agent_0_x with steps of 3\n",
    "    first_nan = df[df.columns[i]].isna().idxmax(1)\n",
    "    nans.append(first_nan)\n",
    "    \n",
    "nans[nans.index(0)] = df.timestep.iat[-1]\n",
    "\n",
    "print(nans)\n",
    "print(orig_dist)\n",
    "\n",
    "# outflux = max timestep / n agents\n",
    "# average velocity\n",
    "# per agent: orig dist / timestep nans\n",
    "# voor systeem: average velocity van alle agents\n",
    "# nog een velocity, als een agent bij andere agents staat of die dan langzamer gaat\n",
    "# dus velocity aan de hand van hoeveel agents in zn buurt zijn\n",
    "\n",
    "# over dataframe per x rows, de velocity over de duur van de run meten."
   ]
  },
  {
   "cell_type": "code",
   "execution_count": 4,
   "metadata": {},
   "outputs": [],
   "source": [
    "import numba as nb\n",
    "\n",
    "@nb.njit(fastmath=True)\n",
    "def dist(pos1, pos2):\n",
    "    x = np.array(pos1) - np.array(pos2)\n",
    "    return np.sqrt(x.dot(x))"
   ]
  },
  {
   "cell_type": "code",
   "execution_count": 18,
   "metadata": {},
   "outputs": [
    {
     "output_type": "stream",
     "name": "stdout",
     "text": [
      "Empty DataFrame\nColumns: []\nIndex: []\n"
     ]
    }
   ],
   "source": [
    "import pandas as pd\n",
    "import matplotlib.pyplot as plt\n",
    "import numpy as np\n",
    "\n",
    "densities = np.arange(0.01, 0.20, 0.01)\n",
    "iterations = range(0,10)\n",
    "\n",
    "# Velocities, leavetime/(startingdistance)\n",
    "# Outflux, (total sim time)/(agents at start)\n",
    "# Active average distance between agents; pairwise distances\n",
    "# kijk voor ierede agent elke 2 timesteps wat zijn gemiddelde afstand is tot andere agents\n",
    "\n",
    "# Active average Velocity: (position change)/(20 timesteps)\n",
    "\n",
    "### Output: PER iteratie\n",
    "# Average Velocity\n",
    "# Outlfux\n",
    "# Leave time from agents (nan list)\n",
    "# Original_distance\n",
    "\n",
    "\"\"\"\n",
    "voor alle densities 1 rij in een dataframe, met min max en avg\n",
    "\n",
    "bram?\n",
    "voor alle densities 1 df die van alle iteraties de avg distance heeft per 20 timesteps\n",
    "\"\"\"\n",
    "\n",
    "for d in densities:\n",
    "    # columns = ['timestep']\n",
    "    # columns.extend([f'iteration_{i}_avg_dist_timestep' for i in range(10)])\n",
    "    distance_df = pd.DataFrame()\n",
    "\n",
    "    print(distance_df)\n",
    "\n",
    "    for iteration in iterations:\n",
    "        df = pd.read_csv(f'../data/log/density/10runs0-0.2/density={d:.2f}.i={iteration}.csv')\n",
    "        \n",
    "        gates_excluded = [x for x in df.columns if \"gate\" not in x]\n",
    "        \n",
    "        orig_dist = df[gates_excluded].filter(regex='distance')\n",
    "        orig_dist = list(orig_dist.iloc[1])\n",
    "        \n",
    "        agent_locations = [x for x in gates_excluded if \"orig_distance\" not in x]\n",
    "        df = df[agent_locations]\n",
    "        \n",
    "        nans = []\n",
    "        for column in range(1,len(df.columns),2):\n",
    "            first_nan = df[df.columns[column]].isna().idxmax(1)\n",
    "            nans.append(first_nan)\n",
    "    \n",
    "        nans[nans.index(0)] = df.timestep.iat[-1]\n",
    "\n",
    "        outflux = (len(agent_locations)/2) / max(nans)\n",
    "\n",
    "        average_velocity = np.array(orig_dist) / np.array(nans)\n",
    "\n",
    "        # print(outflux, 1/outflux)\n",
    "        # print(average_velocity)\n",
    "\n",
    "        # df_nan = pd.DataFrame(nans)\n",
    "        # df_nan['agent']=df_nan.index+1\n",
    "        # df_nan.columns=['timestep','agent']\n",
    "\n",
    "        # columns = ['timestep']\n",
    "        # columns.extend([f'agent_{i}_avg_dist' for i in range((len(df.columns)-1)//2)])\n",
    "        # distance_df = pd.DataFrame(columns=columns)\n",
    "\n",
    "        steps = 20\n",
    "        step = 0\n",
    "\n",
    "        # every x steps add average distance of all agents\n",
    "        avg_dist_timestep = []\n",
    "        timesteps = []\n",
    "        avg_velo_timestep = []\n",
    "\n",
    "        # so now for every x steps we get an average distance for one agent to the others\n",
    "        for index, row in df.iterrows():\n",
    "            if step % steps == 0:\n",
    "                average_distances = []\n",
    "\n",
    "                # avg distance\n",
    "                for j in range(1, len(row), 2):\n",
    "                    distance = 0\n",
    "                    amount_of_distances = 0\n",
    "\n",
    "                    agent_x = row[j]\n",
    "                    agent_y = row[j+1]\n",
    "                    if np.isnan(agent_x) or np.isnan(agent_y):\n",
    "                        continue\n",
    "\n",
    "                    for k in range(1, len(row), 2):\n",
    "                        if row[k] == agent_x or np.isnan(row[k]) or np.isnan(row[k+1]):\n",
    "                            continue\n",
    "                        \n",
    "                        amount_of_distances += 1\n",
    "                        pos1 = (agent_x, agent_y)\n",
    "                        pos2 = (row[k], row[k+1])\n",
    "                        distance += dist(pos1, pos2)\n",
    "                    \n",
    "                    if amount_of_distances > 0:\n",
    "                        average_distance = distance / amount_of_distances\n",
    "                        average_distances.append(average_distance)   \n",
    "                \n",
    "                if len(average_distances) > 0:\n",
    "                    timesteps.append(step)\n",
    "                    avg_dist_timestep.append(np.nanmean(average_distances))\n",
    "\n",
    "                # avg velocity\n",
    "                velocities = []\n",
    "                if step >= 20:\n",
    "\n",
    "                    for q in range(1, len(row), 2):\n",
    "                        current_x = row[q]\n",
    "                        current_y = row[q+1]\n",
    "                        old_x = prev_row[q]\n",
    "                        old_y = prev_row[q+1]\n",
    "\n",
    "                        if np.isnan(current_x) or np.isnan(current_y) or np.isnan(old_x) or np.isnan(old_y):\n",
    "                            continue\n",
    "\n",
    "                        pos1 = (current_x, current_y)\n",
    "                        pos2 = (old_x, old_y)\n",
    "\n",
    "                        avg_velo = dist(pos1, pos2) / steps\n",
    "                        velocities.append(avg_velo)\n",
    "                    \n",
    "                avg_velo_timestep.append(np.nanmean(velocities)) if len(velocities) != 0 else avg_velo_timestep.append(np.nan)\n",
    "\n",
    "                prev_row = row\n",
    "\n",
    "            step += 1\n",
    "        # if len(timesteps) > len(distance_df['timestep']):\n",
    "        df5 = pd.DataFrame({'timestep':timesteps})\n",
    "        df6 = pd.DataFrame({f\"iteration_{iteration}_avg_dist_timestep\":avg_dist_timestep})\n",
    "        df7 = pd.DataFrame({f\"iteration_{iteration}_avg_velo_timestep\":avg_velo_timestep})\n",
    "        distance_df = pd.concat([distance_df, df5, df6, df7], axis=1)\n",
    "        # distance_df.columns=columns\n",
    "        # distance_df[f'iteration_{i}_avg_dist_timestep'] = pd.Series(avg_dist_timestep)\n",
    "\n",
    "\n",
    "    break\n"
   ]
  },
  {
   "cell_type": "code",
   "execution_count": null,
   "metadata": {},
   "outputs": [],
   "source": [
    "distance_df = distance_df.loc[:,~distance_df.columns.duplicated()]\n",
    "distance_df"
   ]
  },
  {
   "cell_type": "code",
   "execution_count": 20,
   "metadata": {},
   "outputs": [
    {
     "output_type": "execute_result",
     "data": {
      "text/plain": [
       "    timestep  ...  iteration_9_avg_velo_timestep\n",
       "0        0.0  ...                            NaN\n",
       "1       20.0  ...                       0.102434\n",
       "2       40.0  ...                       0.099733\n",
       "3       60.0  ...                       0.100635\n",
       "4       80.0  ...                       0.100863\n",
       "5      100.0  ...                       0.100558\n",
       "6      120.0  ...                       0.100544\n",
       "7      140.0  ...                       0.100167\n",
       "8      160.0  ...                       0.099718\n",
       "9      180.0  ...                       0.097378\n",
       "10     200.0  ...                       0.094542\n",
       "11     220.0  ...                       0.092987\n",
       "12     240.0  ...                       0.094154\n",
       "13     260.0  ...                       0.095900\n",
       "14     280.0  ...                       0.094633\n",
       "15     300.0  ...                       0.088984\n",
       "16     320.0  ...                       0.093347\n",
       "17     340.0  ...                       0.097612\n",
       "18     360.0  ...                       0.099437\n",
       "19     380.0  ...                       0.092448\n",
       "20     400.0  ...                       0.090919\n",
       "21     420.0  ...                       0.088188\n",
       "22     440.0  ...                       0.089550\n",
       "23     460.0  ...                       0.096997\n",
       "24     480.0  ...                       0.097593\n",
       "25     500.0  ...                       0.092123\n",
       "26     520.0  ...                       0.098229\n",
       "27     540.0  ...                       0.097663\n",
       "28     560.0  ...                       0.099155\n",
       "29     580.0  ...                       0.095234\n",
       "30     600.0  ...                       0.094042\n",
       "31     620.0  ...                       0.087280\n",
       "32     640.0  ...                       0.088229\n",
       "33     660.0  ...                       0.097780\n",
       "34     680.0  ...                       0.087497\n",
       "35     700.0  ...                       0.095087\n",
       "36     720.0  ...                       0.090837\n",
       "37     740.0  ...                       0.114072\n",
       "38     760.0  ...                       0.116710\n",
       "39     780.0  ...                       0.102452\n",
       "40     800.0  ...                       0.101207\n",
       "41     820.0  ...                       0.100647\n",
       "42       NaN  ...                            NaN\n",
       "43       NaN  ...                            NaN\n",
       "44       NaN  ...                            NaN\n",
       "45       NaN  ...                            NaN\n",
       "46       NaN  ...                            NaN\n",
       "47       NaN  ...                            NaN\n",
       "48       NaN  ...                            NaN\n",
       "49       NaN  ...                            NaN\n",
       "50       NaN  ...                            NaN\n",
       "51       NaN  ...                            NaN\n",
       "52       NaN  ...                            NaN\n",
       "53       NaN  ...                            NaN\n",
       "\n",
       "[54 rows x 21 columns]"
      ],
      "text/html": "<div>\n<style scoped>\n    .dataframe tbody tr th:only-of-type {\n        vertical-align: middle;\n    }\n\n    .dataframe tbody tr th {\n        vertical-align: top;\n    }\n\n    .dataframe thead th {\n        text-align: right;\n    }\n</style>\n<table border=\"1\" class=\"dataframe\">\n  <thead>\n    <tr style=\"text-align: right;\">\n      <th></th>\n      <th>timestep</th>\n      <th>iteration_0_avg_dist_timestep</th>\n      <th>iteration_0_avg_velo_timestep</th>\n      <th>iteration_1_avg_dist_timestep</th>\n      <th>iteration_1_avg_velo_timestep</th>\n      <th>iteration_2_avg_dist_timestep</th>\n      <th>iteration_2_avg_velo_timestep</th>\n      <th>iteration_3_avg_dist_timestep</th>\n      <th>iteration_3_avg_velo_timestep</th>\n      <th>iteration_4_avg_dist_timestep</th>\n      <th>iteration_4_avg_velo_timestep</th>\n      <th>iteration_5_avg_dist_timestep</th>\n      <th>iteration_5_avg_velo_timestep</th>\n      <th>iteration_6_avg_dist_timestep</th>\n      <th>iteration_6_avg_velo_timestep</th>\n      <th>iteration_7_avg_dist_timestep</th>\n      <th>iteration_7_avg_velo_timestep</th>\n      <th>iteration_8_avg_dist_timestep</th>\n      <th>iteration_8_avg_velo_timestep</th>\n      <th>iteration_9_avg_dist_timestep</th>\n      <th>iteration_9_avg_velo_timestep</th>\n    </tr>\n  </thead>\n  <tbody>\n    <tr>\n      <th>0</th>\n      <td>0.0</td>\n      <td>43.686057</td>\n      <td>NaN</td>\n      <td>52.851917</td>\n      <td>NaN</td>\n      <td>47.050266</td>\n      <td>NaN</td>\n      <td>46.634562</td>\n      <td>NaN</td>\n      <td>50.922394</td>\n      <td>NaN</td>\n      <td>50.507296</td>\n      <td>NaN</td>\n      <td>56.835390</td>\n      <td>NaN</td>\n      <td>59.096717</td>\n      <td>NaN</td>\n      <td>47.405731</td>\n      <td>NaN</td>\n      <td>42.119585</td>\n      <td>NaN</td>\n    </tr>\n    <tr>\n      <th>1</th>\n      <td>20.0</td>\n      <td>42.352162</td>\n      <td>0.104905</td>\n      <td>51.286293</td>\n      <td>0.100234</td>\n      <td>46.013631</td>\n      <td>0.100435</td>\n      <td>45.640601</td>\n      <td>0.102181</td>\n      <td>49.391830</td>\n      <td>0.102321</td>\n      <td>49.190930</td>\n      <td>0.101157</td>\n      <td>55.489416</td>\n      <td>0.101608</td>\n      <td>57.320704</td>\n      <td>0.105384</td>\n      <td>46.407397</td>\n      <td>0.100970</td>\n      <td>40.744094</td>\n      <td>0.102434</td>\n    </tr>\n    <tr>\n      <th>2</th>\n      <td>40.0</td>\n      <td>41.028455</td>\n      <td>0.104174</td>\n      <td>49.760593</td>\n      <td>0.101152</td>\n      <td>44.961193</td>\n      <td>0.098705</td>\n      <td>44.613977</td>\n      <td>0.100295</td>\n      <td>47.880100</td>\n      <td>0.101830</td>\n      <td>47.914784</td>\n      <td>0.099832</td>\n      <td>54.175843</td>\n      <td>0.101862</td>\n      <td>55.607832</td>\n      <td>0.102843</td>\n      <td>45.403269</td>\n      <td>0.101002</td>\n      <td>39.355453</td>\n      <td>0.099733</td>\n    </tr>\n    <tr>\n      <th>3</th>\n      <td>60.0</td>\n      <td>39.657358</td>\n      <td>0.105087</td>\n      <td>48.243526</td>\n      <td>0.101219</td>\n      <td>43.915409</td>\n      <td>0.098017</td>\n      <td>43.546440</td>\n      <td>0.100904</td>\n      <td>46.433059</td>\n      <td>0.100858</td>\n      <td>46.658682</td>\n      <td>0.098197</td>\n      <td>52.889120</td>\n      <td>0.101019</td>\n      <td>53.883783</td>\n      <td>0.102210</td>\n      <td>44.421773</td>\n      <td>0.100491</td>\n      <td>38.119040</td>\n      <td>0.100635</td>\n    </tr>\n    <tr>\n      <th>4</th>\n      <td>80.0</td>\n      <td>38.299301</td>\n      <td>0.102720</td>\n      <td>46.736551</td>\n      <td>0.101536</td>\n      <td>42.912779</td>\n      <td>0.097705</td>\n      <td>42.449822</td>\n      <td>0.102046</td>\n      <td>44.960073</td>\n      <td>0.100509</td>\n      <td>45.442168</td>\n      <td>0.097281</td>\n      <td>51.621405</td>\n      <td>0.100711</td>\n      <td>52.206184</td>\n      <td>0.099400</td>\n      <td>43.457817</td>\n      <td>0.100294</td>\n      <td>36.896281</td>\n      <td>0.100863</td>\n    </tr>\n    <tr>\n      <th>5</th>\n      <td>100.0</td>\n      <td>36.979930</td>\n      <td>0.101236</td>\n      <td>45.247822</td>\n      <td>0.101193</td>\n      <td>41.956156</td>\n      <td>0.097719</td>\n      <td>41.372663</td>\n      <td>0.101522</td>\n      <td>43.480635</td>\n      <td>0.100114</td>\n      <td>44.227936</td>\n      <td>0.096658</td>\n      <td>50.366458</td>\n      <td>0.100758</td>\n      <td>50.529380</td>\n      <td>0.098316</td>\n      <td>42.520047</td>\n      <td>0.100026</td>\n      <td>35.703123</td>\n      <td>0.100558</td>\n    </tr>\n    <tr>\n      <th>6</th>\n      <td>120.0</td>\n      <td>35.652270</td>\n      <td>0.101041</td>\n      <td>43.778113</td>\n      <td>0.101173</td>\n      <td>41.024129</td>\n      <td>0.097131</td>\n      <td>40.297243</td>\n      <td>0.101808</td>\n      <td>41.996174</td>\n      <td>0.100005</td>\n      <td>42.955378</td>\n      <td>0.094848</td>\n      <td>46.887320</td>\n      <td>0.100686</td>\n      <td>49.112129</td>\n      <td>0.100099</td>\n      <td>41.586454</td>\n      <td>0.099787</td>\n      <td>34.530369</td>\n      <td>0.100544</td>\n    </tr>\n    <tr>\n      <th>7</th>\n      <td>140.0</td>\n      <td>34.311941</td>\n      <td>0.100559</td>\n      <td>42.324928</td>\n      <td>0.101148</td>\n      <td>40.184482</td>\n      <td>0.100130</td>\n      <td>39.232031</td>\n      <td>0.102162</td>\n      <td>40.600256</td>\n      <td>0.100299</td>\n      <td>41.734858</td>\n      <td>0.094946</td>\n      <td>45.486800</td>\n      <td>0.100789</td>\n      <td>47.729131</td>\n      <td>0.100670</td>\n      <td>40.655838</td>\n      <td>0.099724</td>\n      <td>33.371484</td>\n      <td>0.100167</td>\n    </tr>\n    <tr>\n      <th>8</th>\n      <td>160.0</td>\n      <td>32.976006</td>\n      <td>0.100472</td>\n      <td>39.527572</td>\n      <td>0.100528</td>\n      <td>38.975873</td>\n      <td>0.099388</td>\n      <td>38.180044</td>\n      <td>0.101738</td>\n      <td>39.259345</td>\n      <td>0.101053</td>\n      <td>40.606716</td>\n      <td>0.096306</td>\n      <td>44.097853</td>\n      <td>0.100803</td>\n      <td>46.386757</td>\n      <td>0.100325</td>\n      <td>39.742891</td>\n      <td>0.099481</td>\n      <td>31.384669</td>\n      <td>0.099718</td>\n    </tr>\n    <tr>\n      <th>9</th>\n      <td>180.0</td>\n      <td>31.654496</td>\n      <td>0.100787</td>\n      <td>37.901367</td>\n      <td>0.100246</td>\n      <td>38.111776</td>\n      <td>0.102035</td>\n      <td>37.141324</td>\n      <td>0.101529</td>\n      <td>37.934231</td>\n      <td>0.101731</td>\n      <td>39.524146</td>\n      <td>0.097865</td>\n      <td>42.721505</td>\n      <td>0.100816</td>\n      <td>45.118749</td>\n      <td>0.101946</td>\n      <td>38.872284</td>\n      <td>0.099726</td>\n      <td>30.156695</td>\n      <td>0.097378</td>\n    </tr>\n    <tr>\n      <th>10</th>\n      <td>200.0</td>\n      <td>30.330542</td>\n      <td>0.100255</td>\n      <td>36.291431</td>\n      <td>0.099829</td>\n      <td>37.287799</td>\n      <td>0.102735</td>\n      <td>36.119116</td>\n      <td>0.101223</td>\n      <td>36.652528</td>\n      <td>0.101845</td>\n      <td>38.469467</td>\n      <td>0.097554</td>\n      <td>41.358922</td>\n      <td>0.100829</td>\n      <td>43.891128</td>\n      <td>0.103013</td>\n      <td>38.128675</td>\n      <td>0.100457</td>\n      <td>28.973543</td>\n      <td>0.094542</td>\n    </tr>\n    <tr>\n      <th>11</th>\n      <td>220.0</td>\n      <td>29.028570</td>\n      <td>0.099486</td>\n      <td>34.704072</td>\n      <td>0.099620</td>\n      <td>35.714302</td>\n      <td>0.099971</td>\n      <td>35.112110</td>\n      <td>0.100981</td>\n      <td>35.424804</td>\n      <td>0.101623</td>\n      <td>37.100606</td>\n      <td>0.094028</td>\n      <td>40.001272</td>\n      <td>0.100709</td>\n      <td>41.870829</td>\n      <td>0.100420</td>\n      <td>37.390824</td>\n      <td>0.100267</td>\n      <td>27.774457</td>\n      <td>0.092987</td>\n    </tr>\n    <tr>\n      <th>12</th>\n      <td>240.0</td>\n      <td>27.737783</td>\n      <td>0.099520</td>\n      <td>33.228630</td>\n      <td>0.099958</td>\n      <td>34.737967</td>\n      <td>0.099822</td>\n      <td>34.121407</td>\n      <td>0.101032</td>\n      <td>34.446787</td>\n      <td>0.100768</td>\n      <td>35.868300</td>\n      <td>0.095981</td>\n      <td>38.654975</td>\n      <td>0.100638</td>\n      <td>40.510738</td>\n      <td>0.099630</td>\n      <td>36.693631</td>\n      <td>0.099589</td>\n      <td>26.588733</td>\n      <td>0.094154</td>\n    </tr>\n    <tr>\n      <th>13</th>\n      <td>260.0</td>\n      <td>26.456749</td>\n      <td>0.099960</td>\n      <td>31.826292</td>\n      <td>0.100292</td>\n      <td>33.802535</td>\n      <td>0.100443</td>\n      <td>33.148491</td>\n      <td>0.100563</td>\n      <td>32.484845</td>\n      <td>0.102031</td>\n      <td>34.704370</td>\n      <td>0.096087</td>\n      <td>37.327394</td>\n      <td>0.100624</td>\n      <td>39.327201</td>\n      <td>0.100964</td>\n      <td>35.993888</td>\n      <td>0.097614</td>\n      <td>25.747137</td>\n      <td>0.095900</td>\n    </tr>\n    <tr>\n      <th>14</th>\n      <td>280.0</td>\n      <td>25.231257</td>\n      <td>0.099451</td>\n      <td>30.493843</td>\n      <td>0.101456</td>\n      <td>32.107490</td>\n      <td>0.103207</td>\n      <td>32.215336</td>\n      <td>0.100758</td>\n      <td>31.599706</td>\n      <td>0.099707</td>\n      <td>32.986729</td>\n      <td>0.094966</td>\n      <td>36.007731</td>\n      <td>0.100289</td>\n      <td>37.159039</td>\n      <td>0.101541</td>\n      <td>35.288278</td>\n      <td>0.096606</td>\n      <td>24.994637</td>\n      <td>0.094633</td>\n    </tr>\n    <tr>\n      <th>15</th>\n      <td>300.0</td>\n      <td>24.078723</td>\n      <td>0.100503</td>\n      <td>29.227988</td>\n      <td>0.102032</td>\n      <td>31.106271</td>\n      <td>0.104025</td>\n      <td>31.309098</td>\n      <td>0.100472</td>\n      <td>30.761193</td>\n      <td>0.099428</td>\n      <td>31.906234</td>\n      <td>0.097194</td>\n      <td>34.708040</td>\n      <td>0.100135</td>\n      <td>35.859130</td>\n      <td>0.101130</td>\n      <td>34.693824</td>\n      <td>0.099143</td>\n      <td>23.924963</td>\n      <td>0.088984</td>\n    </tr>\n    <tr>\n      <th>16</th>\n      <td>320.0</td>\n      <td>22.951852</td>\n      <td>0.102973</td>\n      <td>28.110696</td>\n      <td>0.099526</td>\n      <td>30.284450</td>\n      <td>0.099690</td>\n      <td>28.446422</td>\n      <td>0.100518</td>\n      <td>29.966987</td>\n      <td>0.099460</td>\n      <td>30.914679</td>\n      <td>0.099126</td>\n      <td>33.441928</td>\n      <td>0.100135</td>\n      <td>34.597507</td>\n      <td>0.100611</td>\n      <td>33.347895</td>\n      <td>0.100128</td>\n      <td>23.148439</td>\n      <td>0.093347</td>\n    </tr>\n    <tr>\n      <th>17</th>\n      <td>340.0</td>\n      <td>21.965016</td>\n      <td>0.098757</td>\n      <td>27.175893</td>\n      <td>0.102171</td>\n      <td>29.520736</td>\n      <td>0.094526</td>\n      <td>27.471804</td>\n      <td>0.100735</td>\n      <td>27.937812</td>\n      <td>0.098473</td>\n      <td>29.994926</td>\n      <td>0.098884</td>\n      <td>32.202558</td>\n      <td>0.100037</td>\n      <td>33.378312</td>\n      <td>0.100652</td>\n      <td>32.824560</td>\n      <td>0.101345</td>\n      <td>21.877249</td>\n      <td>0.097612</td>\n    </tr>\n    <tr>\n      <th>18</th>\n      <td>360.0</td>\n      <td>21.353411</td>\n      <td>0.101297</td>\n      <td>25.009984</td>\n      <td>0.100107</td>\n      <td>29.066190</td>\n      <td>0.098843</td>\n      <td>26.590355</td>\n      <td>0.101412</td>\n      <td>26.976993</td>\n      <td>0.096905</td>\n      <td>28.417921</td>\n      <td>0.100126</td>\n      <td>31.101702</td>\n      <td>0.099650</td>\n      <td>30.640726</td>\n      <td>0.100580</td>\n      <td>32.441072</td>\n      <td>0.102333</td>\n      <td>21.034235</td>\n      <td>0.099437</td>\n    </tr>\n    <tr>\n      <th>19</th>\n      <td>380.0</td>\n      <td>20.763888</td>\n      <td>0.103073</td>\n      <td>24.057004</td>\n      <td>0.097395</td>\n      <td>27.975013</td>\n      <td>0.098701</td>\n      <td>25.971879</td>\n      <td>0.102269</td>\n      <td>26.020396</td>\n      <td>0.096661</td>\n      <td>27.472258</td>\n      <td>0.102135</td>\n      <td>30.074779</td>\n      <td>0.096725</td>\n      <td>29.278716</td>\n      <td>0.100227</td>\n      <td>31.288340</td>\n      <td>0.099924</td>\n      <td>20.328358</td>\n      <td>0.092448</td>\n    </tr>\n    <tr>\n      <th>20</th>\n      <td>400.0</td>\n      <td>20.137975</td>\n      <td>0.096603</td>\n      <td>23.310691</td>\n      <td>0.095738</td>\n      <td>27.523910</td>\n      <td>0.098922</td>\n      <td>25.363332</td>\n      <td>0.103430</td>\n      <td>25.130865</td>\n      <td>0.096753</td>\n      <td>25.648274</td>\n      <td>0.102661</td>\n      <td>29.184162</td>\n      <td>0.096993</td>\n      <td>27.993278</td>\n      <td>0.099688</td>\n      <td>30.831613</td>\n      <td>0.098231</td>\n      <td>19.215247</td>\n      <td>0.090919</td>\n    </tr>\n    <tr>\n      <th>21</th>\n      <td>420.0</td>\n      <td>19.568107</td>\n      <td>0.093554</td>\n      <td>22.897944</td>\n      <td>0.097128</td>\n      <td>27.107753</td>\n      <td>0.100106</td>\n      <td>22.666500</td>\n      <td>0.100926</td>\n      <td>22.929053</td>\n      <td>0.099625</td>\n      <td>24.612452</td>\n      <td>0.097852</td>\n      <td>28.508348</td>\n      <td>0.095088</td>\n      <td>26.876670</td>\n      <td>0.099840</td>\n      <td>29.542389</td>\n      <td>0.095090</td>\n      <td>17.611888</td>\n      <td>0.088188</td>\n    </tr>\n    <tr>\n      <th>22</th>\n      <td>440.0</td>\n      <td>18.106379</td>\n      <td>0.093095</td>\n      <td>21.191317</td>\n      <td>0.096862</td>\n      <td>26.089545</td>\n      <td>0.101476</td>\n      <td>21.934195</td>\n      <td>0.102323</td>\n      <td>22.178523</td>\n      <td>0.102186</td>\n      <td>23.782166</td>\n      <td>0.096622</td>\n      <td>27.926013</td>\n      <td>0.097919</td>\n      <td>25.854277</td>\n      <td>0.103455</td>\n      <td>28.984589</td>\n      <td>0.094607</td>\n      <td>16.910652</td>\n      <td>0.089550</td>\n    </tr>\n    <tr>\n      <th>23</th>\n      <td>460.0</td>\n      <td>17.859206</td>\n      <td>0.098350</td>\n      <td>20.803884</td>\n      <td>0.099836</td>\n      <td>25.596740</td>\n      <td>0.099467</td>\n      <td>21.227288</td>\n      <td>0.101985</td>\n      <td>21.485145</td>\n      <td>0.102161</td>\n      <td>23.126466</td>\n      <td>0.099612</td>\n      <td>26.617090</td>\n      <td>0.092082</td>\n      <td>24.832118</td>\n      <td>0.102887</td>\n      <td>28.506837</td>\n      <td>0.095329</td>\n      <td>16.434610</td>\n      <td>0.096997</td>\n    </tr>\n    <tr>\n      <th>24</th>\n      <td>480.0</td>\n      <td>17.790739</td>\n      <td>0.096109</td>\n      <td>19.197681</td>\n      <td>0.097242</td>\n      <td>24.442485</td>\n      <td>0.096794</td>\n      <td>18.319775</td>\n      <td>0.103979</td>\n      <td>20.904325</td>\n      <td>0.101227</td>\n      <td>20.941240</td>\n      <td>0.098893</td>\n      <td>26.062597</td>\n      <td>0.092747</td>\n      <td>23.887302</td>\n      <td>0.096970</td>\n      <td>28.066146</td>\n      <td>0.095661</td>\n      <td>14.971057</td>\n      <td>0.097593</td>\n    </tr>\n    <tr>\n      <th>25</th>\n      <td>500.0</td>\n      <td>17.423454</td>\n      <td>0.093293</td>\n      <td>18.799412</td>\n      <td>0.102517</td>\n      <td>23.884243</td>\n      <td>0.098941</td>\n      <td>17.640644</td>\n      <td>0.104075</td>\n      <td>19.352096</td>\n      <td>0.100120</td>\n      <td>20.202558</td>\n      <td>0.094499</td>\n      <td>25.510951</td>\n      <td>0.092042</td>\n      <td>23.247488</td>\n      <td>0.102399</td>\n      <td>26.866372</td>\n      <td>0.096741</td>\n      <td>14.591560</td>\n      <td>0.092123</td>\n    </tr>\n    <tr>\n      <th>26</th>\n      <td>520.0</td>\n      <td>16.865882</td>\n      <td>0.086034</td>\n      <td>18.497013</td>\n      <td>0.108230</td>\n      <td>23.431657</td>\n      <td>0.096152</td>\n      <td>16.993949</td>\n      <td>0.103802</td>\n      <td>19.027572</td>\n      <td>0.103876</td>\n      <td>19.733431</td>\n      <td>0.099430</td>\n      <td>23.921319</td>\n      <td>0.090545</td>\n      <td>21.411965</td>\n      <td>0.100760</td>\n      <td>26.419447</td>\n      <td>0.096750</td>\n      <td>14.348877</td>\n      <td>0.098229</td>\n    </tr>\n    <tr>\n      <th>27</th>\n      <td>540.0</td>\n      <td>16.702249</td>\n      <td>0.083688</td>\n      <td>16.717757</td>\n      <td>0.099868</td>\n      <td>22.136942</td>\n      <td>0.089798</td>\n      <td>16.491011</td>\n      <td>0.100315</td>\n      <td>16.991662</td>\n      <td>0.100242</td>\n      <td>17.574351</td>\n      <td>0.098214</td>\n      <td>23.479930</td>\n      <td>0.095394</td>\n      <td>20.674106</td>\n      <td>0.101104</td>\n      <td>25.359445</td>\n      <td>0.094340</td>\n      <td>13.511534</td>\n      <td>0.097663</td>\n    </tr>\n    <tr>\n      <th>28</th>\n      <td>560.0</td>\n      <td>16.387212</td>\n      <td>0.078713</td>\n      <td>16.400501</td>\n      <td>0.091765</td>\n      <td>21.456203</td>\n      <td>0.090674</td>\n      <td>16.085767</td>\n      <td>0.094415</td>\n      <td>16.716848</td>\n      <td>0.100635</td>\n      <td>17.111606</td>\n      <td>0.102987</td>\n      <td>21.802902</td>\n      <td>0.096292</td>\n      <td>20.045976</td>\n      <td>0.099875</td>\n      <td>24.918646</td>\n      <td>0.099131</td>\n      <td>11.865346</td>\n      <td>0.099155</td>\n    </tr>\n    <tr>\n      <th>29</th>\n      <td>580.0</td>\n      <td>15.773335</td>\n      <td>0.065462</td>\n      <td>16.212752</td>\n      <td>0.094446</td>\n      <td>20.989580</td>\n      <td>0.091297</td>\n      <td>15.763985</td>\n      <td>0.095209</td>\n      <td>16.556241</td>\n      <td>0.099548</td>\n      <td>14.491710</td>\n      <td>0.101266</td>\n      <td>21.371234</td>\n      <td>0.101488</td>\n      <td>18.133849</td>\n      <td>0.102727</td>\n      <td>24.541929</td>\n      <td>0.099914</td>\n      <td>11.565231</td>\n      <td>0.095234</td>\n    </tr>\n    <tr>\n      <th>30</th>\n      <td>600.0</td>\n      <td>16.018242</td>\n      <td>0.081181</td>\n      <td>14.451419</td>\n      <td>0.087576</td>\n      <td>20.817662</td>\n      <td>0.102476</td>\n      <td>15.489281</td>\n      <td>0.094635</td>\n      <td>15.023917</td>\n      <td>0.101533</td>\n      <td>13.981736</td>\n      <td>0.097291</td>\n      <td>21.001317</td>\n      <td>0.102320</td>\n      <td>17.528920</td>\n      <td>0.104245</td>\n      <td>23.019946</td>\n      <td>0.098469</td>\n      <td>11.388190</td>\n      <td>0.094042</td>\n    </tr>\n    <tr>\n      <th>31</th>\n      <td>620.0</td>\n      <td>16.076495</td>\n      <td>0.084259</td>\n      <td>14.407282</td>\n      <td>0.096728</td>\n      <td>19.826824</td>\n      <td>0.103869</td>\n      <td>14.032701</td>\n      <td>0.092256</td>\n      <td>14.955263</td>\n      <td>0.105588</td>\n      <td>13.616835</td>\n      <td>0.099382</td>\n      <td>18.991721</td>\n      <td>0.100604</td>\n      <td>15.340569</td>\n      <td>0.100041</td>\n      <td>22.575666</td>\n      <td>0.102639</td>\n      <td>9.641449</td>\n      <td>0.087280</td>\n    </tr>\n    <tr>\n      <th>32</th>\n      <td>640.0</td>\n      <td>16.313880</td>\n      <td>0.086425</td>\n      <td>14.516979</td>\n      <td>0.100253</td>\n      <td>19.892901</td>\n      <td>0.103982</td>\n      <td>13.786903</td>\n      <td>0.092147</td>\n      <td>14.878708</td>\n      <td>0.105858</td>\n      <td>13.302868</td>\n      <td>0.100755</td>\n      <td>18.562667</td>\n      <td>0.105366</td>\n      <td>14.762861</td>\n      <td>0.099524</td>\n      <td>20.562520</td>\n      <td>0.100556</td>\n      <td>9.333038</td>\n      <td>0.088229</td>\n    </tr>\n    <tr>\n      <th>33</th>\n      <td>660.0</td>\n      <td>16.336936</td>\n      <td>0.084376</td>\n      <td>13.324129</td>\n      <td>0.097243</td>\n      <td>18.386926</td>\n      <td>0.098097</td>\n      <td>13.568355</td>\n      <td>0.086500</td>\n      <td>14.813220</td>\n      <td>0.101422</td>\n      <td>10.179709</td>\n      <td>0.097575</td>\n      <td>16.365502</td>\n      <td>0.105163</td>\n      <td>14.342073</td>\n      <td>0.098497</td>\n      <td>19.957224</td>\n      <td>0.100256</td>\n      <td>9.452572</td>\n      <td>0.097780</td>\n    </tr>\n    <tr>\n      <th>34</th>\n      <td>680.0</td>\n      <td>16.756557</td>\n      <td>0.098690</td>\n      <td>13.389455</td>\n      <td>0.095804</td>\n      <td>18.341201</td>\n      <td>0.100258</td>\n      <td>12.248642</td>\n      <td>0.079622</td>\n      <td>13.023738</td>\n      <td>0.090691</td>\n      <td>9.949112</td>\n      <td>0.088642</td>\n      <td>15.891406</td>\n      <td>0.104416</td>\n      <td>14.155666</td>\n      <td>0.102338</td>\n      <td>19.379974</td>\n      <td>0.100134</td>\n      <td>7.992873</td>\n      <td>0.087497</td>\n    </tr>\n    <tr>\n      <th>35</th>\n      <td>700.0</td>\n      <td>16.742377</td>\n      <td>0.103428</td>\n      <td>12.379062</td>\n      <td>0.098146</td>\n      <td>18.320731</td>\n      <td>0.100571</td>\n      <td>12.131321</td>\n      <td>0.079712</td>\n      <td>13.034480</td>\n      <td>0.089971</td>\n      <td>10.083429</td>\n      <td>0.088857</td>\n      <td>15.544961</td>\n      <td>0.106046</td>\n      <td>12.168963</td>\n      <td>0.098520</td>\n      <td>18.812655</td>\n      <td>0.100654</td>\n      <td>8.405535</td>\n      <td>0.095087</td>\n    </tr>\n    <tr>\n      <th>36</th>\n      <td>720.0</td>\n      <td>16.731675</td>\n      <td>0.103306</td>\n      <td>12.283062</td>\n      <td>0.099555</td>\n      <td>16.077563</td>\n      <td>0.101204</td>\n      <td>10.736589</td>\n      <td>0.080106</td>\n      <td>13.176057</td>\n      <td>0.102188</td>\n      <td>10.470155</td>\n      <td>0.090428</td>\n      <td>13.194373</td>\n      <td>0.101383</td>\n      <td>12.111649</td>\n      <td>0.091430</td>\n      <td>15.841164</td>\n      <td>0.100318</td>\n      <td>7.445672</td>\n      <td>0.090837</td>\n    </tr>\n    <tr>\n      <th>37</th>\n      <td>740.0</td>\n      <td>16.770292</td>\n      <td>0.104417</td>\n      <td>11.100133</td>\n      <td>0.097567</td>\n      <td>16.075898</td>\n      <td>0.100543</td>\n      <td>10.611914</td>\n      <td>0.084014</td>\n      <td>12.028004</td>\n      <td>0.104619</td>\n      <td>8.769006</td>\n      <td>0.095092</td>\n      <td>12.882866</td>\n      <td>0.096558</td>\n      <td>10.271231</td>\n      <td>0.082599</td>\n      <td>15.115298</td>\n      <td>0.100168</td>\n      <td>7.433707</td>\n      <td>0.114072</td>\n    </tr>\n    <tr>\n      <th>38</th>\n      <td>760.0</td>\n      <td>21.677215</td>\n      <td>0.100292</td>\n      <td>11.030570</td>\n      <td>0.099149</td>\n      <td>16.073516</td>\n      <td>0.100285</td>\n      <td>8.963448</td>\n      <td>0.081392</td>\n      <td>12.130384</td>\n      <td>0.107284</td>\n      <td>8.891203</td>\n      <td>0.104709</td>\n      <td>12.762302</td>\n      <td>0.099404</td>\n      <td>10.439110</td>\n      <td>0.092033</td>\n      <td>14.502488</td>\n      <td>0.098131</td>\n      <td>7.463892</td>\n      <td>0.116710</td>\n    </tr>\n    <tr>\n      <th>39</th>\n      <td>780.0</td>\n      <td>21.627040</td>\n      <td>0.100169</td>\n      <td>10.970469</td>\n      <td>0.098987</td>\n      <td>16.082605</td>\n      <td>0.099061</td>\n      <td>9.012523</td>\n      <td>0.087830</td>\n      <td>10.927808</td>\n      <td>0.101027</td>\n      <td>9.176523</td>\n      <td>0.109750</td>\n      <td>12.929657</td>\n      <td>0.099834</td>\n      <td>10.777123</td>\n      <td>0.098035</td>\n      <td>10.537847</td>\n      <td>0.094013</td>\n      <td>NaN</td>\n      <td>0.102452</td>\n    </tr>\n    <tr>\n      <th>40</th>\n      <td>800.0</td>\n      <td>21.590900</td>\n      <td>0.100098</td>\n      <td>10.940755</td>\n      <td>0.101708</td>\n      <td>8.209941</td>\n      <td>0.096395</td>\n      <td>9.270075</td>\n      <td>0.091130</td>\n      <td>10.947015</td>\n      <td>0.101063</td>\n      <td>7.773100</td>\n      <td>0.106788</td>\n      <td>11.270101</td>\n      <td>0.089941</td>\n      <td>9.279109</td>\n      <td>0.089717</td>\n      <td>9.766378</td>\n      <td>0.090860</td>\n      <td>NaN</td>\n      <td>0.101207</td>\n    </tr>\n    <tr>\n      <th>41</th>\n      <td>820.0</td>\n      <td>21.575348</td>\n      <td>0.100056</td>\n      <td>9.107750</td>\n      <td>0.101317</td>\n      <td>8.179729</td>\n      <td>0.099194</td>\n      <td>8.390746</td>\n      <td>0.077330</td>\n      <td>11.037500</td>\n      <td>0.100155</td>\n      <td>7.927348</td>\n      <td>0.107829</td>\n      <td>11.337274</td>\n      <td>0.090213</td>\n      <td>9.353623</td>\n      <td>0.079978</td>\n      <td>8.981829</td>\n      <td>0.088471</td>\n      <td>NaN</td>\n      <td>0.100647</td>\n    </tr>\n    <tr>\n      <th>42</th>\n      <td>NaN</td>\n      <td>NaN</td>\n      <td>0.100000</td>\n      <td>9.134794</td>\n      <td>0.100641</td>\n      <td>8.201075</td>\n      <td>0.100000</td>\n      <td>9.143436</td>\n      <td>0.082588</td>\n      <td>9.071016</td>\n      <td>0.098650</td>\n      <td>7.508364</td>\n      <td>0.100844</td>\n      <td>9.722629</td>\n      <td>0.087524</td>\n      <td>9.466478</td>\n      <td>0.082201</td>\n      <td>8.758218</td>\n      <td>0.091333</td>\n      <td>NaN</td>\n      <td>NaN</td>\n    </tr>\n    <tr>\n      <th>43</th>\n      <td>NaN</td>\n      <td>NaN</td>\n      <td>0.100000</td>\n      <td>9.151233</td>\n      <td>0.100344</td>\n      <td>8.301353</td>\n      <td>0.100817</td>\n      <td>8.714730</td>\n      <td>0.083478</td>\n      <td>9.080796</td>\n      <td>0.100245</td>\n      <td>7.525782</td>\n      <td>0.104769</td>\n      <td>9.791012</td>\n      <td>0.098421</td>\n      <td>7.690768</td>\n      <td>0.092926</td>\n      <td>8.776197</td>\n      <td>0.097464</td>\n      <td>NaN</td>\n      <td>NaN</td>\n    </tr>\n    <tr>\n      <th>44</th>\n      <td>NaN</td>\n      <td>NaN</td>\n      <td>0.096169</td>\n      <td>9.147788</td>\n      <td>0.100395</td>\n      <td>8.422765</td>\n      <td>0.100128</td>\n      <td>7.366320</td>\n      <td>0.075794</td>\n      <td>9.080798</td>\n      <td>0.100139</td>\n      <td>NaN</td>\n      <td>0.100278</td>\n      <td>9.987426</td>\n      <td>0.101234</td>\n      <td>7.979215</td>\n      <td>0.107250</td>\n      <td>9.138720</td>\n      <td>0.093993</td>\n      <td>NaN</td>\n      <td>NaN</td>\n    </tr>\n    <tr>\n      <th>45</th>\n      <td>NaN</td>\n      <td>NaN</td>\n      <td>0.096695</td>\n      <td>NaN</td>\n      <td>0.102952</td>\n      <td>8.456824</td>\n      <td>0.100776</td>\n      <td>7.822742</td>\n      <td>0.088509</td>\n      <td>9.028603</td>\n      <td>0.101130</td>\n      <td>NaN</td>\n      <td>0.100165</td>\n      <td>8.420561</td>\n      <td>0.094003</td>\n      <td>8.187946</td>\n      <td>0.110399</td>\n      <td>9.620989</td>\n      <td>0.092514</td>\n      <td>NaN</td>\n      <td>NaN</td>\n    </tr>\n    <tr>\n      <th>46</th>\n      <td>NaN</td>\n      <td>NaN</td>\n      <td>0.100000</td>\n      <td>NaN</td>\n      <td>0.101403</td>\n      <td>8.477068</td>\n      <td>0.100409</td>\n      <td>8.363299</td>\n      <td>0.099386</td>\n      <td>NaN</td>\n      <td>0.102755</td>\n      <td>NaN</td>\n      <td>0.100097</td>\n      <td>8.712116</td>\n      <td>0.102215</td>\n      <td>7.519586</td>\n      <td>0.106795</td>\n      <td>8.169085</td>\n      <td>0.096085</td>\n      <td>NaN</td>\n      <td>NaN</td>\n    </tr>\n    <tr>\n      <th>47</th>\n      <td>NaN</td>\n      <td>NaN</td>\n      <td>0.100000</td>\n      <td>NaN</td>\n      <td>0.100750</td>\n      <td>8.467146</td>\n      <td>0.100581</td>\n      <td>7.515733</td>\n      <td>0.092797</td>\n      <td>NaN</td>\n      <td>0.101328</td>\n      <td>NaN</td>\n      <td>0.100056</td>\n      <td>8.986645</td>\n      <td>0.110746</td>\n      <td>7.497803</td>\n      <td>0.103844</td>\n      <td>8.672398</td>\n      <td>0.100876</td>\n      <td>NaN</td>\n      <td>NaN</td>\n    </tr>\n    <tr>\n      <th>48</th>\n      <td>NaN</td>\n      <td>NaN</td>\n      <td>0.103179</td>\n      <td>NaN</td>\n      <td>0.100416</td>\n      <td>NaN</td>\n      <td>0.103418</td>\n      <td>7.508421</td>\n      <td>0.112620</td>\n      <td>NaN</td>\n      <td>0.100712</td>\n      <td>NaN</td>\n      <td>NaN</td>\n      <td>7.559303</td>\n      <td>0.111634</td>\n      <td>NaN</td>\n      <td>0.100000</td>\n      <td>7.526064</td>\n      <td>0.101264</td>\n      <td>NaN</td>\n      <td>NaN</td>\n    </tr>\n    <tr>\n      <th>49</th>\n      <td>NaN</td>\n      <td>NaN</td>\n      <td>0.102420</td>\n      <td>NaN</td>\n      <td>NaN</td>\n      <td>NaN</td>\n      <td>0.101567</td>\n      <td>NaN</td>\n      <td>0.103676</td>\n      <td>NaN</td>\n      <td>0.100393</td>\n      <td>NaN</td>\n      <td>NaN</td>\n      <td>7.543020</td>\n      <td>0.118139</td>\n      <td>NaN</td>\n      <td>0.100000</td>\n      <td>7.512396</td>\n      <td>0.115087</td>\n      <td>NaN</td>\n      <td>NaN</td>\n    </tr>\n    <tr>\n      <th>50</th>\n      <td>NaN</td>\n      <td>NaN</td>\n      <td>0.101197</td>\n      <td>NaN</td>\n      <td>NaN</td>\n      <td>NaN</td>\n      <td>0.100826</td>\n      <td>NaN</td>\n      <td>0.101649</td>\n      <td>NaN</td>\n      <td>NaN</td>\n      <td>NaN</td>\n      <td>NaN</td>\n      <td>NaN</td>\n      <td>0.102645</td>\n      <td>NaN</td>\n      <td>0.100000</td>\n      <td>NaN</td>\n      <td>0.103854</td>\n      <td>NaN</td>\n      <td>NaN</td>\n    </tr>\n    <tr>\n      <th>51</th>\n      <td>NaN</td>\n      <td>NaN</td>\n      <td>0.100646</td>\n      <td>NaN</td>\n      <td>NaN</td>\n      <td>NaN</td>\n      <td>0.100455</td>\n      <td>NaN</td>\n      <td>0.100857</td>\n      <td>NaN</td>\n      <td>NaN</td>\n      <td>NaN</td>\n      <td>NaN</td>\n      <td>NaN</td>\n      <td>0.101284</td>\n      <td>NaN</td>\n      <td>NaN</td>\n      <td>NaN</td>\n      <td>0.101707</td>\n      <td>NaN</td>\n      <td>NaN</td>\n    </tr>\n    <tr>\n      <th>52</th>\n      <td>NaN</td>\n      <td>NaN</td>\n      <td>0.100357</td>\n      <td>NaN</td>\n      <td>NaN</td>\n      <td>NaN</td>\n      <td>NaN</td>\n      <td>NaN</td>\n      <td>0.100465</td>\n      <td>NaN</td>\n      <td>NaN</td>\n      <td>NaN</td>\n      <td>NaN</td>\n      <td>NaN</td>\n      <td>0.100686</td>\n      <td>NaN</td>\n      <td>NaN</td>\n      <td>NaN</td>\n      <td>0.100886</td>\n      <td>NaN</td>\n      <td>NaN</td>\n    </tr>\n    <tr>\n      <th>53</th>\n      <td>NaN</td>\n      <td>NaN</td>\n      <td>NaN</td>\n      <td>NaN</td>\n      <td>NaN</td>\n      <td>NaN</td>\n      <td>NaN</td>\n      <td>NaN</td>\n      <td>NaN</td>\n      <td>NaN</td>\n      <td>NaN</td>\n      <td>NaN</td>\n      <td>NaN</td>\n      <td>NaN</td>\n      <td>0.100376</td>\n      <td>NaN</td>\n      <td>NaN</td>\n      <td>NaN</td>\n      <td>0.100482</td>\n      <td>NaN</td>\n      <td>NaN</td>\n    </tr>\n  </tbody>\n</table>\n</div>"
     },
     "metadata": {},
     "execution_count": 20
    }
   ],
   "source": []
  },
  {
   "cell_type": "code",
   "execution_count": 17,
   "metadata": {},
   "outputs": [
    {
     "output_type": "execute_result",
     "data": {
      "text/plain": [
       "    timestep  ...  iteration_9_avg_velo_timestep\n",
       "0        0.0  ...                            NaN\n",
       "1       20.0  ...                            NaN\n",
       "2       40.0  ...                       0.099733\n",
       "3       60.0  ...                       0.100635\n",
       "4       80.0  ...                       0.100863\n",
       "5      100.0  ...                       0.100558\n",
       "6      120.0  ...                       0.100544\n",
       "7      140.0  ...                       0.100167\n",
       "8      160.0  ...                       0.099718\n",
       "9      180.0  ...                       0.097378\n",
       "10     200.0  ...                       0.094542\n",
       "11     220.0  ...                       0.092987\n",
       "12     240.0  ...                       0.094154\n",
       "13     260.0  ...                       0.095900\n",
       "14     280.0  ...                       0.094633\n",
       "15     300.0  ...                       0.088984\n",
       "16     320.0  ...                       0.093347\n",
       "17     340.0  ...                       0.097612\n",
       "18     360.0  ...                       0.099437\n",
       "19     380.0  ...                       0.092448\n",
       "20     400.0  ...                       0.090919\n",
       "21     420.0  ...                       0.088188\n",
       "22     440.0  ...                       0.089550\n",
       "23     460.0  ...                       0.096997\n",
       "24     480.0  ...                       0.097593\n",
       "25     500.0  ...                       0.092123\n",
       "26     520.0  ...                       0.098229\n",
       "27     540.0  ...                       0.097663\n",
       "28     560.0  ...                       0.099155\n",
       "29     580.0  ...                       0.095234\n",
       "30     600.0  ...                       0.094042\n",
       "31     620.0  ...                       0.087280\n",
       "32     640.0  ...                       0.088229\n",
       "33     660.0  ...                       0.097780\n",
       "34     680.0  ...                       0.087497\n",
       "35     700.0  ...                       0.095087\n",
       "36     720.0  ...                       0.090837\n",
       "37     740.0  ...                       0.114072\n",
       "38     760.0  ...                       0.116710\n",
       "39     780.0  ...                       0.102452\n",
       "40     800.0  ...                       0.101207\n",
       "41     820.0  ...                       0.100647\n",
       "42       NaN  ...                            NaN\n",
       "43       NaN  ...                            NaN\n",
       "44       NaN  ...                            NaN\n",
       "45       NaN  ...                            NaN\n",
       "46       NaN  ...                            NaN\n",
       "47       NaN  ...                            NaN\n",
       "48       NaN  ...                            NaN\n",
       "49       NaN  ...                            NaN\n",
       "50       NaN  ...                            NaN\n",
       "51       NaN  ...                            NaN\n",
       "52       NaN  ...                            NaN\n",
       "53       NaN  ...                            NaN\n",
       "\n",
       "[54 rows x 21 columns]"
      ],
      "text/html": "<div>\n<style scoped>\n    .dataframe tbody tr th:only-of-type {\n        vertical-align: middle;\n    }\n\n    .dataframe tbody tr th {\n        vertical-align: top;\n    }\n\n    .dataframe thead th {\n        text-align: right;\n    }\n</style>\n<table border=\"1\" class=\"dataframe\">\n  <thead>\n    <tr style=\"text-align: right;\">\n      <th></th>\n      <th>timestep</th>\n      <th>iteration_0_avg_dist_timestep</th>\n      <th>iteration_0_avg_velo_timestep</th>\n      <th>iteration_1_avg_dist_timestep</th>\n      <th>iteration_1_avg_velo_timestep</th>\n      <th>iteration_2_avg_dist_timestep</th>\n      <th>iteration_2_avg_velo_timestep</th>\n      <th>iteration_3_avg_dist_timestep</th>\n      <th>iteration_3_avg_velo_timestep</th>\n      <th>iteration_4_avg_dist_timestep</th>\n      <th>iteration_4_avg_velo_timestep</th>\n      <th>iteration_5_avg_dist_timestep</th>\n      <th>iteration_5_avg_velo_timestep</th>\n      <th>iteration_6_avg_dist_timestep</th>\n      <th>iteration_6_avg_velo_timestep</th>\n      <th>iteration_7_avg_dist_timestep</th>\n      <th>iteration_7_avg_velo_timestep</th>\n      <th>iteration_8_avg_dist_timestep</th>\n      <th>iteration_8_avg_velo_timestep</th>\n      <th>iteration_9_avg_dist_timestep</th>\n      <th>iteration_9_avg_velo_timestep</th>\n    </tr>\n  </thead>\n  <tbody>\n    <tr>\n      <th>0</th>\n      <td>0.0</td>\n      <td>43.686057</td>\n      <td>NaN</td>\n      <td>52.851917</td>\n      <td>NaN</td>\n      <td>47.050266</td>\n      <td>NaN</td>\n      <td>46.634562</td>\n      <td>NaN</td>\n      <td>50.922394</td>\n      <td>NaN</td>\n      <td>50.507296</td>\n      <td>NaN</td>\n      <td>56.835390</td>\n      <td>NaN</td>\n      <td>59.096717</td>\n      <td>NaN</td>\n      <td>47.405731</td>\n      <td>NaN</td>\n      <td>42.119585</td>\n      <td>NaN</td>\n    </tr>\n    <tr>\n      <th>1</th>\n      <td>20.0</td>\n      <td>42.352162</td>\n      <td>NaN</td>\n      <td>51.286293</td>\n      <td>NaN</td>\n      <td>46.013631</td>\n      <td>NaN</td>\n      <td>45.640601</td>\n      <td>NaN</td>\n      <td>49.391830</td>\n      <td>NaN</td>\n      <td>49.190930</td>\n      <td>NaN</td>\n      <td>55.489416</td>\n      <td>NaN</td>\n      <td>57.320704</td>\n      <td>NaN</td>\n      <td>46.407397</td>\n      <td>NaN</td>\n      <td>40.744094</td>\n      <td>NaN</td>\n    </tr>\n    <tr>\n      <th>2</th>\n      <td>40.0</td>\n      <td>41.028455</td>\n      <td>0.104174</td>\n      <td>49.760593</td>\n      <td>0.101152</td>\n      <td>44.961193</td>\n      <td>0.098705</td>\n      <td>44.613977</td>\n      <td>0.100295</td>\n      <td>47.880100</td>\n      <td>0.101830</td>\n      <td>47.914784</td>\n      <td>0.099832</td>\n      <td>54.175843</td>\n      <td>0.101862</td>\n      <td>55.607832</td>\n      <td>0.102843</td>\n      <td>45.403269</td>\n      <td>0.101002</td>\n      <td>39.355453</td>\n      <td>0.099733</td>\n    </tr>\n    <tr>\n      <th>3</th>\n      <td>60.0</td>\n      <td>39.657358</td>\n      <td>0.105087</td>\n      <td>48.243526</td>\n      <td>0.101219</td>\n      <td>43.915409</td>\n      <td>0.098017</td>\n      <td>43.546440</td>\n      <td>0.100904</td>\n      <td>46.433059</td>\n      <td>0.100858</td>\n      <td>46.658682</td>\n      <td>0.098197</td>\n      <td>52.889120</td>\n      <td>0.101019</td>\n      <td>53.883783</td>\n      <td>0.102210</td>\n      <td>44.421773</td>\n      <td>0.100491</td>\n      <td>38.119040</td>\n      <td>0.100635</td>\n    </tr>\n    <tr>\n      <th>4</th>\n      <td>80.0</td>\n      <td>38.299301</td>\n      <td>0.102720</td>\n      <td>46.736551</td>\n      <td>0.101536</td>\n      <td>42.912779</td>\n      <td>0.097705</td>\n      <td>42.449822</td>\n      <td>0.102046</td>\n      <td>44.960073</td>\n      <td>0.100509</td>\n      <td>45.442168</td>\n      <td>0.097281</td>\n      <td>51.621405</td>\n      <td>0.100711</td>\n      <td>52.206184</td>\n      <td>0.099400</td>\n      <td>43.457817</td>\n      <td>0.100294</td>\n      <td>36.896281</td>\n      <td>0.100863</td>\n    </tr>\n    <tr>\n      <th>5</th>\n      <td>100.0</td>\n      <td>36.979930</td>\n      <td>0.101236</td>\n      <td>45.247822</td>\n      <td>0.101193</td>\n      <td>41.956156</td>\n      <td>0.097719</td>\n      <td>41.372663</td>\n      <td>0.101522</td>\n      <td>43.480635</td>\n      <td>0.100114</td>\n      <td>44.227936</td>\n      <td>0.096658</td>\n      <td>50.366458</td>\n      <td>0.100758</td>\n      <td>50.529380</td>\n      <td>0.098316</td>\n      <td>42.520047</td>\n      <td>0.100026</td>\n      <td>35.703123</td>\n      <td>0.100558</td>\n    </tr>\n    <tr>\n      <th>6</th>\n      <td>120.0</td>\n      <td>35.652270</td>\n      <td>0.101041</td>\n      <td>43.778113</td>\n      <td>0.101173</td>\n      <td>41.024129</td>\n      <td>0.097131</td>\n      <td>40.297243</td>\n      <td>0.101808</td>\n      <td>41.996174</td>\n      <td>0.100005</td>\n      <td>42.955378</td>\n      <td>0.094848</td>\n      <td>46.887320</td>\n      <td>0.100686</td>\n      <td>49.112129</td>\n      <td>0.100099</td>\n      <td>41.586454</td>\n      <td>0.099787</td>\n      <td>34.530369</td>\n      <td>0.100544</td>\n    </tr>\n    <tr>\n      <th>7</th>\n      <td>140.0</td>\n      <td>34.311941</td>\n      <td>0.100559</td>\n      <td>42.324928</td>\n      <td>0.101148</td>\n      <td>40.184482</td>\n      <td>0.100130</td>\n      <td>39.232031</td>\n      <td>0.102162</td>\n      <td>40.600256</td>\n      <td>0.100299</td>\n      <td>41.734858</td>\n      <td>0.094946</td>\n      <td>45.486800</td>\n      <td>0.100789</td>\n      <td>47.729131</td>\n      <td>0.100670</td>\n      <td>40.655838</td>\n      <td>0.099724</td>\n      <td>33.371484</td>\n      <td>0.100167</td>\n    </tr>\n    <tr>\n      <th>8</th>\n      <td>160.0</td>\n      <td>32.976006</td>\n      <td>0.100472</td>\n      <td>39.527572</td>\n      <td>0.100528</td>\n      <td>38.975873</td>\n      <td>0.099388</td>\n      <td>38.180044</td>\n      <td>0.101738</td>\n      <td>39.259345</td>\n      <td>0.101053</td>\n      <td>40.606716</td>\n      <td>0.096306</td>\n      <td>44.097853</td>\n      <td>0.100803</td>\n      <td>46.386757</td>\n      <td>0.100325</td>\n      <td>39.742891</td>\n      <td>0.099481</td>\n      <td>31.384669</td>\n      <td>0.099718</td>\n    </tr>\n    <tr>\n      <th>9</th>\n      <td>180.0</td>\n      <td>31.654496</td>\n      <td>0.100787</td>\n      <td>37.901367</td>\n      <td>0.100246</td>\n      <td>38.111776</td>\n      <td>0.102035</td>\n      <td>37.141324</td>\n      <td>0.101529</td>\n      <td>37.934231</td>\n      <td>0.101731</td>\n      <td>39.524146</td>\n      <td>0.097865</td>\n      <td>42.721505</td>\n      <td>0.100816</td>\n      <td>45.118749</td>\n      <td>0.101946</td>\n      <td>38.872284</td>\n      <td>0.099726</td>\n      <td>30.156695</td>\n      <td>0.097378</td>\n    </tr>\n    <tr>\n      <th>10</th>\n      <td>200.0</td>\n      <td>30.330542</td>\n      <td>0.100255</td>\n      <td>36.291431</td>\n      <td>0.099829</td>\n      <td>37.287799</td>\n      <td>0.102735</td>\n      <td>36.119116</td>\n      <td>0.101223</td>\n      <td>36.652528</td>\n      <td>0.101845</td>\n      <td>38.469467</td>\n      <td>0.097554</td>\n      <td>41.358922</td>\n      <td>0.100829</td>\n      <td>43.891128</td>\n      <td>0.103013</td>\n      <td>38.128675</td>\n      <td>0.100457</td>\n      <td>28.973543</td>\n      <td>0.094542</td>\n    </tr>\n    <tr>\n      <th>11</th>\n      <td>220.0</td>\n      <td>29.028570</td>\n      <td>0.099486</td>\n      <td>34.704072</td>\n      <td>0.099620</td>\n      <td>35.714302</td>\n      <td>0.099971</td>\n      <td>35.112110</td>\n      <td>0.100981</td>\n      <td>35.424804</td>\n      <td>0.101623</td>\n      <td>37.100606</td>\n      <td>0.094028</td>\n      <td>40.001272</td>\n      <td>0.100709</td>\n      <td>41.870829</td>\n      <td>0.100420</td>\n      <td>37.390824</td>\n      <td>0.100267</td>\n      <td>27.774457</td>\n      <td>0.092987</td>\n    </tr>\n    <tr>\n      <th>12</th>\n      <td>240.0</td>\n      <td>27.737783</td>\n      <td>0.099520</td>\n      <td>33.228630</td>\n      <td>0.099958</td>\n      <td>34.737967</td>\n      <td>0.099822</td>\n      <td>34.121407</td>\n      <td>0.101032</td>\n      <td>34.446787</td>\n      <td>0.100768</td>\n      <td>35.868300</td>\n      <td>0.095981</td>\n      <td>38.654975</td>\n      <td>0.100638</td>\n      <td>40.510738</td>\n      <td>0.099630</td>\n      <td>36.693631</td>\n      <td>0.099589</td>\n      <td>26.588733</td>\n      <td>0.094154</td>\n    </tr>\n    <tr>\n      <th>13</th>\n      <td>260.0</td>\n      <td>26.456749</td>\n      <td>0.099960</td>\n      <td>31.826292</td>\n      <td>0.100292</td>\n      <td>33.802535</td>\n      <td>0.100443</td>\n      <td>33.148491</td>\n      <td>0.100563</td>\n      <td>32.484845</td>\n      <td>0.102031</td>\n      <td>34.704370</td>\n      <td>0.096087</td>\n      <td>37.327394</td>\n      <td>0.100624</td>\n      <td>39.327201</td>\n      <td>0.100964</td>\n      <td>35.993888</td>\n      <td>0.097614</td>\n      <td>25.747137</td>\n      <td>0.095900</td>\n    </tr>\n    <tr>\n      <th>14</th>\n      <td>280.0</td>\n      <td>25.231257</td>\n      <td>0.099451</td>\n      <td>30.493843</td>\n      <td>0.101456</td>\n      <td>32.107490</td>\n      <td>0.103207</td>\n      <td>32.215336</td>\n      <td>0.100758</td>\n      <td>31.599706</td>\n      <td>0.099707</td>\n      <td>32.986729</td>\n      <td>0.094966</td>\n      <td>36.007731</td>\n      <td>0.100289</td>\n      <td>37.159039</td>\n      <td>0.101541</td>\n      <td>35.288278</td>\n      <td>0.096606</td>\n      <td>24.994637</td>\n      <td>0.094633</td>\n    </tr>\n    <tr>\n      <th>15</th>\n      <td>300.0</td>\n      <td>24.078723</td>\n      <td>0.100503</td>\n      <td>29.227988</td>\n      <td>0.102032</td>\n      <td>31.106271</td>\n      <td>0.104025</td>\n      <td>31.309098</td>\n      <td>0.100472</td>\n      <td>30.761193</td>\n      <td>0.099428</td>\n      <td>31.906234</td>\n      <td>0.097194</td>\n      <td>34.708040</td>\n      <td>0.100135</td>\n      <td>35.859130</td>\n      <td>0.101130</td>\n      <td>34.693824</td>\n      <td>0.099143</td>\n      <td>23.924963</td>\n      <td>0.088984</td>\n    </tr>\n    <tr>\n      <th>16</th>\n      <td>320.0</td>\n      <td>22.951852</td>\n      <td>0.102973</td>\n      <td>28.110696</td>\n      <td>0.099526</td>\n      <td>30.284450</td>\n      <td>0.099690</td>\n      <td>28.446422</td>\n      <td>0.100518</td>\n      <td>29.966987</td>\n      <td>0.099460</td>\n      <td>30.914679</td>\n      <td>0.099126</td>\n      <td>33.441928</td>\n      <td>0.100135</td>\n      <td>34.597507</td>\n      <td>0.100611</td>\n      <td>33.347895</td>\n      <td>0.100128</td>\n      <td>23.148439</td>\n      <td>0.093347</td>\n    </tr>\n    <tr>\n      <th>17</th>\n      <td>340.0</td>\n      <td>21.965016</td>\n      <td>0.098757</td>\n      <td>27.175893</td>\n      <td>0.102171</td>\n      <td>29.520736</td>\n      <td>0.094526</td>\n      <td>27.471804</td>\n      <td>0.100735</td>\n      <td>27.937812</td>\n      <td>0.098473</td>\n      <td>29.994926</td>\n      <td>0.098884</td>\n      <td>32.202558</td>\n      <td>0.100037</td>\n      <td>33.378312</td>\n      <td>0.100652</td>\n      <td>32.824560</td>\n      <td>0.101345</td>\n      <td>21.877249</td>\n      <td>0.097612</td>\n    </tr>\n    <tr>\n      <th>18</th>\n      <td>360.0</td>\n      <td>21.353411</td>\n      <td>0.101297</td>\n      <td>25.009984</td>\n      <td>0.100107</td>\n      <td>29.066190</td>\n      <td>0.098843</td>\n      <td>26.590355</td>\n      <td>0.101412</td>\n      <td>26.976993</td>\n      <td>0.096905</td>\n      <td>28.417921</td>\n      <td>0.100126</td>\n      <td>31.101702</td>\n      <td>0.099650</td>\n      <td>30.640726</td>\n      <td>0.100580</td>\n      <td>32.441072</td>\n      <td>0.102333</td>\n      <td>21.034235</td>\n      <td>0.099437</td>\n    </tr>\n    <tr>\n      <th>19</th>\n      <td>380.0</td>\n      <td>20.763888</td>\n      <td>0.103073</td>\n      <td>24.057004</td>\n      <td>0.097395</td>\n      <td>27.975013</td>\n      <td>0.098701</td>\n      <td>25.971879</td>\n      <td>0.102269</td>\n      <td>26.020396</td>\n      <td>0.096661</td>\n      <td>27.472258</td>\n      <td>0.102135</td>\n      <td>30.074779</td>\n      <td>0.096725</td>\n      <td>29.278716</td>\n      <td>0.100227</td>\n      <td>31.288340</td>\n      <td>0.099924</td>\n      <td>20.328358</td>\n      <td>0.092448</td>\n    </tr>\n    <tr>\n      <th>20</th>\n      <td>400.0</td>\n      <td>20.137975</td>\n      <td>0.096603</td>\n      <td>23.310691</td>\n      <td>0.095738</td>\n      <td>27.523910</td>\n      <td>0.098922</td>\n      <td>25.363332</td>\n      <td>0.103430</td>\n      <td>25.130865</td>\n      <td>0.096753</td>\n      <td>25.648274</td>\n      <td>0.102661</td>\n      <td>29.184162</td>\n      <td>0.096993</td>\n      <td>27.993278</td>\n      <td>0.099688</td>\n      <td>30.831613</td>\n      <td>0.098231</td>\n      <td>19.215247</td>\n      <td>0.090919</td>\n    </tr>\n    <tr>\n      <th>21</th>\n      <td>420.0</td>\n      <td>19.568107</td>\n      <td>0.093554</td>\n      <td>22.897944</td>\n      <td>0.097128</td>\n      <td>27.107753</td>\n      <td>0.100106</td>\n      <td>22.666500</td>\n      <td>0.100926</td>\n      <td>22.929053</td>\n      <td>0.099625</td>\n      <td>24.612452</td>\n      <td>0.097852</td>\n      <td>28.508348</td>\n      <td>0.095088</td>\n      <td>26.876670</td>\n      <td>0.099840</td>\n      <td>29.542389</td>\n      <td>0.095090</td>\n      <td>17.611888</td>\n      <td>0.088188</td>\n    </tr>\n    <tr>\n      <th>22</th>\n      <td>440.0</td>\n      <td>18.106379</td>\n      <td>0.093095</td>\n      <td>21.191317</td>\n      <td>0.096862</td>\n      <td>26.089545</td>\n      <td>0.101476</td>\n      <td>21.934195</td>\n      <td>0.102323</td>\n      <td>22.178523</td>\n      <td>0.102186</td>\n      <td>23.782166</td>\n      <td>0.096622</td>\n      <td>27.926013</td>\n      <td>0.097919</td>\n      <td>25.854277</td>\n      <td>0.103455</td>\n      <td>28.984589</td>\n      <td>0.094607</td>\n      <td>16.910652</td>\n      <td>0.089550</td>\n    </tr>\n    <tr>\n      <th>23</th>\n      <td>460.0</td>\n      <td>17.859206</td>\n      <td>0.098350</td>\n      <td>20.803884</td>\n      <td>0.099836</td>\n      <td>25.596740</td>\n      <td>0.099467</td>\n      <td>21.227288</td>\n      <td>0.101985</td>\n      <td>21.485145</td>\n      <td>0.102161</td>\n      <td>23.126466</td>\n      <td>0.099612</td>\n      <td>26.617090</td>\n      <td>0.092082</td>\n      <td>24.832118</td>\n      <td>0.102887</td>\n      <td>28.506837</td>\n      <td>0.095329</td>\n      <td>16.434610</td>\n      <td>0.096997</td>\n    </tr>\n    <tr>\n      <th>24</th>\n      <td>480.0</td>\n      <td>17.790739</td>\n      <td>0.096109</td>\n      <td>19.197681</td>\n      <td>0.097242</td>\n      <td>24.442485</td>\n      <td>0.096794</td>\n      <td>18.319775</td>\n      <td>0.103979</td>\n      <td>20.904325</td>\n      <td>0.101227</td>\n      <td>20.941240</td>\n      <td>0.098893</td>\n      <td>26.062597</td>\n      <td>0.092747</td>\n      <td>23.887302</td>\n      <td>0.096970</td>\n      <td>28.066146</td>\n      <td>0.095661</td>\n      <td>14.971057</td>\n      <td>0.097593</td>\n    </tr>\n    <tr>\n      <th>25</th>\n      <td>500.0</td>\n      <td>17.423454</td>\n      <td>0.093293</td>\n      <td>18.799412</td>\n      <td>0.102517</td>\n      <td>23.884243</td>\n      <td>0.098941</td>\n      <td>17.640644</td>\n      <td>0.104075</td>\n      <td>19.352096</td>\n      <td>0.100120</td>\n      <td>20.202558</td>\n      <td>0.094499</td>\n      <td>25.510951</td>\n      <td>0.092042</td>\n      <td>23.247488</td>\n      <td>0.102399</td>\n      <td>26.866372</td>\n      <td>0.096741</td>\n      <td>14.591560</td>\n      <td>0.092123</td>\n    </tr>\n    <tr>\n      <th>26</th>\n      <td>520.0</td>\n      <td>16.865882</td>\n      <td>0.086034</td>\n      <td>18.497013</td>\n      <td>0.108230</td>\n      <td>23.431657</td>\n      <td>0.096152</td>\n      <td>16.993949</td>\n      <td>0.103802</td>\n      <td>19.027572</td>\n      <td>0.103876</td>\n      <td>19.733431</td>\n      <td>0.099430</td>\n      <td>23.921319</td>\n      <td>0.090545</td>\n      <td>21.411965</td>\n      <td>0.100760</td>\n      <td>26.419447</td>\n      <td>0.096750</td>\n      <td>14.348877</td>\n      <td>0.098229</td>\n    </tr>\n    <tr>\n      <th>27</th>\n      <td>540.0</td>\n      <td>16.702249</td>\n      <td>0.083688</td>\n      <td>16.717757</td>\n      <td>0.099868</td>\n      <td>22.136942</td>\n      <td>0.089798</td>\n      <td>16.491011</td>\n      <td>0.100315</td>\n      <td>16.991662</td>\n      <td>0.100242</td>\n      <td>17.574351</td>\n      <td>0.098214</td>\n      <td>23.479930</td>\n      <td>0.095394</td>\n      <td>20.674106</td>\n      <td>0.101104</td>\n      <td>25.359445</td>\n      <td>0.094340</td>\n      <td>13.511534</td>\n      <td>0.097663</td>\n    </tr>\n    <tr>\n      <th>28</th>\n      <td>560.0</td>\n      <td>16.387212</td>\n      <td>0.078713</td>\n      <td>16.400501</td>\n      <td>0.091765</td>\n      <td>21.456203</td>\n      <td>0.090674</td>\n      <td>16.085767</td>\n      <td>0.094415</td>\n      <td>16.716848</td>\n      <td>0.100635</td>\n      <td>17.111606</td>\n      <td>0.102987</td>\n      <td>21.802902</td>\n      <td>0.096292</td>\n      <td>20.045976</td>\n      <td>0.099875</td>\n      <td>24.918646</td>\n      <td>0.099131</td>\n      <td>11.865346</td>\n      <td>0.099155</td>\n    </tr>\n    <tr>\n      <th>29</th>\n      <td>580.0</td>\n      <td>15.773335</td>\n      <td>0.065462</td>\n      <td>16.212752</td>\n      <td>0.094446</td>\n      <td>20.989580</td>\n      <td>0.091297</td>\n      <td>15.763985</td>\n      <td>0.095209</td>\n      <td>16.556241</td>\n      <td>0.099548</td>\n      <td>14.491710</td>\n      <td>0.101266</td>\n      <td>21.371234</td>\n      <td>0.101488</td>\n      <td>18.133849</td>\n      <td>0.102727</td>\n      <td>24.541929</td>\n      <td>0.099914</td>\n      <td>11.565231</td>\n      <td>0.095234</td>\n    </tr>\n    <tr>\n      <th>30</th>\n      <td>600.0</td>\n      <td>16.018242</td>\n      <td>0.081181</td>\n      <td>14.451419</td>\n      <td>0.087576</td>\n      <td>20.817662</td>\n      <td>0.102476</td>\n      <td>15.489281</td>\n      <td>0.094635</td>\n      <td>15.023917</td>\n      <td>0.101533</td>\n      <td>13.981736</td>\n      <td>0.097291</td>\n      <td>21.001317</td>\n      <td>0.102320</td>\n      <td>17.528920</td>\n      <td>0.104245</td>\n      <td>23.019946</td>\n      <td>0.098469</td>\n      <td>11.388190</td>\n      <td>0.094042</td>\n    </tr>\n    <tr>\n      <th>31</th>\n      <td>620.0</td>\n      <td>16.076495</td>\n      <td>0.084259</td>\n      <td>14.407282</td>\n      <td>0.096728</td>\n      <td>19.826824</td>\n      <td>0.103869</td>\n      <td>14.032701</td>\n      <td>0.092256</td>\n      <td>14.955263</td>\n      <td>0.105588</td>\n      <td>13.616835</td>\n      <td>0.099382</td>\n      <td>18.991721</td>\n      <td>0.100604</td>\n      <td>15.340569</td>\n      <td>0.100041</td>\n      <td>22.575666</td>\n      <td>0.102639</td>\n      <td>9.641449</td>\n      <td>0.087280</td>\n    </tr>\n    <tr>\n      <th>32</th>\n      <td>640.0</td>\n      <td>16.313880</td>\n      <td>0.086425</td>\n      <td>14.516979</td>\n      <td>0.100253</td>\n      <td>19.892901</td>\n      <td>0.103982</td>\n      <td>13.786903</td>\n      <td>0.092147</td>\n      <td>14.878708</td>\n      <td>0.105858</td>\n      <td>13.302868</td>\n      <td>0.100755</td>\n      <td>18.562667</td>\n      <td>0.105366</td>\n      <td>14.762861</td>\n      <td>0.099524</td>\n      <td>20.562520</td>\n      <td>0.100556</td>\n      <td>9.333038</td>\n      <td>0.088229</td>\n    </tr>\n    <tr>\n      <th>33</th>\n      <td>660.0</td>\n      <td>16.336936</td>\n      <td>0.084376</td>\n      <td>13.324129</td>\n      <td>0.097243</td>\n      <td>18.386926</td>\n      <td>0.098097</td>\n      <td>13.568355</td>\n      <td>0.086500</td>\n      <td>14.813220</td>\n      <td>0.101422</td>\n      <td>10.179709</td>\n      <td>0.097575</td>\n      <td>16.365502</td>\n      <td>0.105163</td>\n      <td>14.342073</td>\n      <td>0.098497</td>\n      <td>19.957224</td>\n      <td>0.100256</td>\n      <td>9.452572</td>\n      <td>0.097780</td>\n    </tr>\n    <tr>\n      <th>34</th>\n      <td>680.0</td>\n      <td>16.756557</td>\n      <td>0.098690</td>\n      <td>13.389455</td>\n      <td>0.095804</td>\n      <td>18.341201</td>\n      <td>0.100258</td>\n      <td>12.248642</td>\n      <td>0.079622</td>\n      <td>13.023738</td>\n      <td>0.090691</td>\n      <td>9.949112</td>\n      <td>0.088642</td>\n      <td>15.891406</td>\n      <td>0.104416</td>\n      <td>14.155666</td>\n      <td>0.102338</td>\n      <td>19.379974</td>\n      <td>0.100134</td>\n      <td>7.992873</td>\n      <td>0.087497</td>\n    </tr>\n    <tr>\n      <th>35</th>\n      <td>700.0</td>\n      <td>16.742377</td>\n      <td>0.103428</td>\n      <td>12.379062</td>\n      <td>0.098146</td>\n      <td>18.320731</td>\n      <td>0.100571</td>\n      <td>12.131321</td>\n      <td>0.079712</td>\n      <td>13.034480</td>\n      <td>0.089971</td>\n      <td>10.083429</td>\n      <td>0.088857</td>\n      <td>15.544961</td>\n      <td>0.106046</td>\n      <td>12.168963</td>\n      <td>0.098520</td>\n      <td>18.812655</td>\n      <td>0.100654</td>\n      <td>8.405535</td>\n      <td>0.095087</td>\n    </tr>\n    <tr>\n      <th>36</th>\n      <td>720.0</td>\n      <td>16.731675</td>\n      <td>0.103306</td>\n      <td>12.283062</td>\n      <td>0.099555</td>\n      <td>16.077563</td>\n      <td>0.101204</td>\n      <td>10.736589</td>\n      <td>0.080106</td>\n      <td>13.176057</td>\n      <td>0.102188</td>\n      <td>10.470155</td>\n      <td>0.090428</td>\n      <td>13.194373</td>\n      <td>0.101383</td>\n      <td>12.111649</td>\n      <td>0.091430</td>\n      <td>15.841164</td>\n      <td>0.100318</td>\n      <td>7.445672</td>\n      <td>0.090837</td>\n    </tr>\n    <tr>\n      <th>37</th>\n      <td>740.0</td>\n      <td>16.770292</td>\n      <td>0.104417</td>\n      <td>11.100133</td>\n      <td>0.097567</td>\n      <td>16.075898</td>\n      <td>0.100543</td>\n      <td>10.611914</td>\n      <td>0.084014</td>\n      <td>12.028004</td>\n      <td>0.104619</td>\n      <td>8.769006</td>\n      <td>0.095092</td>\n      <td>12.882866</td>\n      <td>0.096558</td>\n      <td>10.271231</td>\n      <td>0.082599</td>\n      <td>15.115298</td>\n      <td>0.100168</td>\n      <td>7.433707</td>\n      <td>0.114072</td>\n    </tr>\n    <tr>\n      <th>38</th>\n      <td>760.0</td>\n      <td>21.677215</td>\n      <td>0.100292</td>\n      <td>11.030570</td>\n      <td>0.099149</td>\n      <td>16.073516</td>\n      <td>0.100285</td>\n      <td>8.963448</td>\n      <td>0.081392</td>\n      <td>12.130384</td>\n      <td>0.107284</td>\n      <td>8.891203</td>\n      <td>0.104709</td>\n      <td>12.762302</td>\n      <td>0.099404</td>\n      <td>10.439110</td>\n      <td>0.092033</td>\n      <td>14.502488</td>\n      <td>0.098131</td>\n      <td>7.463892</td>\n      <td>0.116710</td>\n    </tr>\n    <tr>\n      <th>39</th>\n      <td>780.0</td>\n      <td>21.627040</td>\n      <td>0.100169</td>\n      <td>10.970469</td>\n      <td>0.098987</td>\n      <td>16.082605</td>\n      <td>0.099061</td>\n      <td>9.012523</td>\n      <td>0.087830</td>\n      <td>10.927808</td>\n      <td>0.101027</td>\n      <td>9.176523</td>\n      <td>0.109750</td>\n      <td>12.929657</td>\n      <td>0.099834</td>\n      <td>10.777123</td>\n      <td>0.098035</td>\n      <td>10.537847</td>\n      <td>0.094013</td>\n      <td>NaN</td>\n      <td>0.102452</td>\n    </tr>\n    <tr>\n      <th>40</th>\n      <td>800.0</td>\n      <td>21.590900</td>\n      <td>0.100098</td>\n      <td>10.940755</td>\n      <td>0.101708</td>\n      <td>8.209941</td>\n      <td>0.096395</td>\n      <td>9.270075</td>\n      <td>0.091130</td>\n      <td>10.947015</td>\n      <td>0.101063</td>\n      <td>7.773100</td>\n      <td>0.106788</td>\n      <td>11.270101</td>\n      <td>0.089941</td>\n      <td>9.279109</td>\n      <td>0.089717</td>\n      <td>9.766378</td>\n      <td>0.090860</td>\n      <td>NaN</td>\n      <td>0.101207</td>\n    </tr>\n    <tr>\n      <th>41</th>\n      <td>820.0</td>\n      <td>21.575348</td>\n      <td>0.100056</td>\n      <td>9.107750</td>\n      <td>0.101317</td>\n      <td>8.179729</td>\n      <td>0.099194</td>\n      <td>8.390746</td>\n      <td>0.077330</td>\n      <td>11.037500</td>\n      <td>0.100155</td>\n      <td>7.927348</td>\n      <td>0.107829</td>\n      <td>11.337274</td>\n      <td>0.090213</td>\n      <td>9.353623</td>\n      <td>0.079978</td>\n      <td>8.981829</td>\n      <td>0.088471</td>\n      <td>NaN</td>\n      <td>0.100647</td>\n    </tr>\n    <tr>\n      <th>42</th>\n      <td>NaN</td>\n      <td>NaN</td>\n      <td>0.100000</td>\n      <td>9.134794</td>\n      <td>0.100641</td>\n      <td>8.201075</td>\n      <td>0.100000</td>\n      <td>9.143436</td>\n      <td>0.082588</td>\n      <td>9.071016</td>\n      <td>0.098650</td>\n      <td>7.508364</td>\n      <td>0.100844</td>\n      <td>9.722629</td>\n      <td>0.087524</td>\n      <td>9.466478</td>\n      <td>0.082201</td>\n      <td>8.758218</td>\n      <td>0.091333</td>\n      <td>NaN</td>\n      <td>NaN</td>\n    </tr>\n    <tr>\n      <th>43</th>\n      <td>NaN</td>\n      <td>NaN</td>\n      <td>0.100000</td>\n      <td>9.151233</td>\n      <td>0.100344</td>\n      <td>8.301353</td>\n      <td>0.100817</td>\n      <td>8.714730</td>\n      <td>0.083478</td>\n      <td>9.080796</td>\n      <td>0.100245</td>\n      <td>7.525782</td>\n      <td>0.104769</td>\n      <td>9.791012</td>\n      <td>0.098421</td>\n      <td>7.690768</td>\n      <td>0.092926</td>\n      <td>8.776197</td>\n      <td>0.097464</td>\n      <td>NaN</td>\n      <td>NaN</td>\n    </tr>\n    <tr>\n      <th>44</th>\n      <td>NaN</td>\n      <td>NaN</td>\n      <td>0.096169</td>\n      <td>9.147788</td>\n      <td>0.100395</td>\n      <td>8.422765</td>\n      <td>0.100128</td>\n      <td>7.366320</td>\n      <td>0.075794</td>\n      <td>9.080798</td>\n      <td>0.100139</td>\n      <td>NaN</td>\n      <td>0.100278</td>\n      <td>9.987426</td>\n      <td>0.101234</td>\n      <td>7.979215</td>\n      <td>0.107250</td>\n      <td>9.138720</td>\n      <td>0.093993</td>\n      <td>NaN</td>\n      <td>NaN</td>\n    </tr>\n    <tr>\n      <th>45</th>\n      <td>NaN</td>\n      <td>NaN</td>\n      <td>0.096695</td>\n      <td>NaN</td>\n      <td>0.102952</td>\n      <td>8.456824</td>\n      <td>0.100776</td>\n      <td>7.822742</td>\n      <td>0.088509</td>\n      <td>9.028603</td>\n      <td>0.101130</td>\n      <td>NaN</td>\n      <td>0.100165</td>\n      <td>8.420561</td>\n      <td>0.094003</td>\n      <td>8.187946</td>\n      <td>0.110399</td>\n      <td>9.620989</td>\n      <td>0.092514</td>\n      <td>NaN</td>\n      <td>NaN</td>\n    </tr>\n    <tr>\n      <th>46</th>\n      <td>NaN</td>\n      <td>NaN</td>\n      <td>0.100000</td>\n      <td>NaN</td>\n      <td>0.101403</td>\n      <td>8.477068</td>\n      <td>0.100409</td>\n      <td>8.363299</td>\n      <td>0.099386</td>\n      <td>NaN</td>\n      <td>0.102755</td>\n      <td>NaN</td>\n      <td>0.100097</td>\n      <td>8.712116</td>\n      <td>0.102215</td>\n      <td>7.519586</td>\n      <td>0.106795</td>\n      <td>8.169085</td>\n      <td>0.096085</td>\n      <td>NaN</td>\n      <td>NaN</td>\n    </tr>\n    <tr>\n      <th>47</th>\n      <td>NaN</td>\n      <td>NaN</td>\n      <td>0.100000</td>\n      <td>NaN</td>\n      <td>0.100750</td>\n      <td>8.467146</td>\n      <td>0.100581</td>\n      <td>7.515733</td>\n      <td>0.092797</td>\n      <td>NaN</td>\n      <td>0.101328</td>\n      <td>NaN</td>\n      <td>0.100056</td>\n      <td>8.986645</td>\n      <td>0.110746</td>\n      <td>7.497803</td>\n      <td>0.103844</td>\n      <td>8.672398</td>\n      <td>0.100876</td>\n      <td>NaN</td>\n      <td>NaN</td>\n    </tr>\n    <tr>\n      <th>48</th>\n      <td>NaN</td>\n      <td>NaN</td>\n      <td>0.103179</td>\n      <td>NaN</td>\n      <td>0.100416</td>\n      <td>NaN</td>\n      <td>0.103418</td>\n      <td>7.508421</td>\n      <td>0.112620</td>\n      <td>NaN</td>\n      <td>0.100712</td>\n      <td>NaN</td>\n      <td>NaN</td>\n      <td>7.559303</td>\n      <td>0.111634</td>\n      <td>NaN</td>\n      <td>0.100000</td>\n      <td>7.526064</td>\n      <td>0.101264</td>\n      <td>NaN</td>\n      <td>NaN</td>\n    </tr>\n    <tr>\n      <th>49</th>\n      <td>NaN</td>\n      <td>NaN</td>\n      <td>0.102420</td>\n      <td>NaN</td>\n      <td>NaN</td>\n      <td>NaN</td>\n      <td>0.101567</td>\n      <td>NaN</td>\n      <td>0.103676</td>\n      <td>NaN</td>\n      <td>0.100393</td>\n      <td>NaN</td>\n      <td>NaN</td>\n      <td>7.543020</td>\n      <td>0.118139</td>\n      <td>NaN</td>\n      <td>0.100000</td>\n      <td>7.512396</td>\n      <td>0.115087</td>\n      <td>NaN</td>\n      <td>NaN</td>\n    </tr>\n    <tr>\n      <th>50</th>\n      <td>NaN</td>\n      <td>NaN</td>\n      <td>0.101197</td>\n      <td>NaN</td>\n      <td>NaN</td>\n      <td>NaN</td>\n      <td>0.100826</td>\n      <td>NaN</td>\n      <td>0.101649</td>\n      <td>NaN</td>\n      <td>NaN</td>\n      <td>NaN</td>\n      <td>NaN</td>\n      <td>NaN</td>\n      <td>0.102645</td>\n      <td>NaN</td>\n      <td>0.100000</td>\n      <td>NaN</td>\n      <td>0.103854</td>\n      <td>NaN</td>\n      <td>NaN</td>\n    </tr>\n    <tr>\n      <th>51</th>\n      <td>NaN</td>\n      <td>NaN</td>\n      <td>0.100646</td>\n      <td>NaN</td>\n      <td>NaN</td>\n      <td>NaN</td>\n      <td>0.100455</td>\n      <td>NaN</td>\n      <td>0.100857</td>\n      <td>NaN</td>\n      <td>NaN</td>\n      <td>NaN</td>\n      <td>NaN</td>\n      <td>NaN</td>\n      <td>0.101284</td>\n      <td>NaN</td>\n      <td>NaN</td>\n      <td>NaN</td>\n      <td>0.101707</td>\n      <td>NaN</td>\n      <td>NaN</td>\n    </tr>\n    <tr>\n      <th>52</th>\n      <td>NaN</td>\n      <td>NaN</td>\n      <td>0.100357</td>\n      <td>NaN</td>\n      <td>NaN</td>\n      <td>NaN</td>\n      <td>NaN</td>\n      <td>NaN</td>\n      <td>0.100465</td>\n      <td>NaN</td>\n      <td>NaN</td>\n      <td>NaN</td>\n      <td>NaN</td>\n      <td>NaN</td>\n      <td>0.100686</td>\n      <td>NaN</td>\n      <td>NaN</td>\n      <td>NaN</td>\n      <td>0.100886</td>\n      <td>NaN</td>\n      <td>NaN</td>\n    </tr>\n    <tr>\n      <th>53</th>\n      <td>NaN</td>\n      <td>NaN</td>\n      <td>NaN</td>\n      <td>NaN</td>\n      <td>NaN</td>\n      <td>NaN</td>\n      <td>NaN</td>\n      <td>NaN</td>\n      <td>NaN</td>\n      <td>NaN</td>\n      <td>NaN</td>\n      <td>NaN</td>\n      <td>NaN</td>\n      <td>NaN</td>\n      <td>0.100376</td>\n      <td>NaN</td>\n      <td>NaN</td>\n      <td>NaN</td>\n      <td>0.100482</td>\n      <td>NaN</td>\n      <td>NaN</td>\n    </tr>\n  </tbody>\n</table>\n</div>"
     },
     "metadata": {},
     "execution_count": 17
    }
   ],
   "source": [
    "distance_df"
   ]
  },
  {
   "cell_type": "code",
   "execution_count": null,
   "metadata": {},
   "outputs": [],
   "source": []
  }
 ],
 "metadata": {
  "colab": {
   "name": "CSS.ipynb",
   "provenance": []
  },
  "kernelspec": {
   "name": "python3",
   "display_name": "Python 3.8.10 64-bit ('python@3.8')"
  },
  "language_info": {
   "codemirror_mode": {
    "name": "ipython",
    "version": 3
   },
   "file_extension": ".py",
   "mimetype": "text/x-python",
   "name": "python",
   "nbconvert_exporter": "python",
   "pygments_lexer": "ipython3",
   "version": "3.8.10"
  },
  "interpreter": {
   "hash": "1ee38ef4a5a9feb55287fd749643f13d043cb0a7addaab2a9c224cbe137c0062"
  }
 },
 "nbformat": 4,
 "nbformat_minor": 1
}