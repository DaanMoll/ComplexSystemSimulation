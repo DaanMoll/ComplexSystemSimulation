{
 "cells": [
  {
   "cell_type": "code",
   "execution_count": 52,
   "metadata": {},
   "outputs": [],
   "source": [
    "import pandas as pd\n",
    "import fnmatch\n",
    "import os"
   ]
  },
  {
   "cell_type": "code",
   "execution_count": 53,
   "metadata": {},
   "outputs": [
    {
     "name": "stdout",
     "output_type": "stream",
     "text": [
      "['CLOSE_DISTANCE2_3.000000_0.csv', 'CLOSE_DISTANCE2_3.000000_1.csv', 'CLOSE_DISTANCE2_3.000000_2.csv', 'CLOSE_DISTANCE2_3.000000_3.csv', 'CLOSE_DISTANCE2_3.000000_4.csv', 'CLOSE_DISTANCE2_3.000000_5.csv', 'CLOSE_DISTANCE2_3.000000_6.csv', 'CLOSE_DISTANCE2_3.000000_7.csv', 'CLOSE_DISTANCE2_3.000000_8.csv', 'CLOSE_DISTANCE2_3.000000_9.csv', 'CLOSE_DISTANCE2_3.307692_0.csv', 'CLOSE_DISTANCE2_3.307692_1.csv', 'CLOSE_DISTANCE2_3.307692_2.csv', 'CLOSE_DISTANCE2_3.307692_3.csv', 'CLOSE_DISTANCE2_3.307692_4.csv', 'CLOSE_DISTANCE2_3.307692_5.csv', 'CLOSE_DISTANCE2_3.307692_6.csv', 'CLOSE_DISTANCE2_3.307692_7.csv', 'CLOSE_DISTANCE2_3.307692_8.csv', 'CLOSE_DISTANCE2_3.307692_9.csv', 'CLOSE_DISTANCE2_3.615385_0.csv', 'CLOSE_DISTANCE2_3.615385_1.csv', 'CLOSE_DISTANCE2_3.615385_2.csv', 'CLOSE_DISTANCE2_3.615385_3.csv', 'CLOSE_DISTANCE2_3.615385_4.csv', 'CLOSE_DISTANCE2_3.615385_5.csv', 'CLOSE_DISTANCE2_3.615385_6.csv', 'CLOSE_DISTANCE2_3.615385_7.csv', 'CLOSE_DISTANCE2_3.615385_8.csv', 'CLOSE_DISTANCE2_3.615385_9.csv', 'CLOSE_DISTANCE2_3.923077_0.csv']\n"
     ]
    }
   ],
   "source": [
    "def parse_filenames_sweep(pattern: str, skip_files: [str], file_path) -> []:\n",
    "    '''\n",
    "    Method to parse all required filenames for this analysis.\n",
    "    pattern example: \n",
    "\n",
    "    pattern = 'CLOSE_DISTANCE2*.csv'\n",
    "    '''\n",
    "    \n",
    "    matched_files = []\n",
    "    files = os.listdir(file_path)\n",
    "    for name in files: \n",
    "        if fnmatch.fnmatch(name, pattern):\n",
    "            matched_files.append(name)\n",
    "    return matched_files\n",
    "\n",
    "\n",
    "pattern = 'CLOSE_DISTANCE2*.csv'\n",
    "file_location = \"../data/log\"\n",
    "matched_files = parse_filenames_sweep(pattern, [], file_location)\n",
    "print(sorted(matched_files))"
   ]
  },
  {
   "cell_type": "code",
   "execution_count": 54,
   "metadata": {},
   "outputs": [],
   "source": [
    "dfs = [pd.read_csv(os.path.join(file_location,file)) for file in matched_files]"
   ]
  },
  {
   "cell_type": "code",
   "execution_count": 55,
   "metadata": {},
   "outputs": [
    {
     "data": {
      "text/plain": "Index(['timestep', 'agent_0_x', 'agent_0_y', 'agent_0_orig_distance',\n       'agent_1_x', 'agent_1_y', 'agent_1_orig_distance', 'agent_2_x',\n       'agent_2_y', 'agent_2_orig_distance',\n       ...\n       'agent_125_orig_distance', 'agent_126_x', 'agent_126_y',\n       'agent_126_orig_distance', 'gate0_x', 'gate0_y', 'gate0_orig_distance',\n       'gate1_x', 'gate1_y', 'gate1_orig_distance'],\n      dtype='object', length=388)"
     },
     "execution_count": 55,
     "metadata": {},
     "output_type": "execute_result"
    }
   ],
   "source": [
    "dfs[0].columns"
   ]
  },
  {
   "cell_type": "code",
   "execution_count": 56,
   "metadata": {},
   "outputs": [],
   "source": [
    "agent_locations = [x for x in dfs[0].columns[1:] if \"orig_distance\" not in x and \"gate\" not in x]\n",
    "df = dfs[0][agent_locations]\n",
    "\n",
    "def agent_left(x: float, y: float) -> bool:\n",
    "    nan = float(\"NaN\")\n",
    "    return True if x == nan and y == nan else False"
   ]
  },
  {
   "cell_type": "code",
   "execution_count": 57,
   "metadata": {},
   "outputs": [
    {
     "data": {
      "text/html": "<div>\n<style scoped>\n    .dataframe tbody tr th:only-of-type {\n        vertical-align: middle;\n    }\n\n    .dataframe tbody tr th {\n        vertical-align: top;\n    }\n\n    .dataframe thead th {\n        text-align: right;\n    }\n</style>\n<table border=\"1\" class=\"dataframe\">\n  <thead>\n    <tr style=\"text-align: right;\">\n      <th></th>\n      <th>agent_0_x</th>\n      <th>agent_0_y</th>\n      <th>agent_1_x</th>\n      <th>agent_1_y</th>\n      <th>agent_2_x</th>\n      <th>agent_2_y</th>\n      <th>agent_3_x</th>\n      <th>agent_3_y</th>\n      <th>agent_4_x</th>\n      <th>agent_4_y</th>\n      <th>...</th>\n      <th>agent_122_x</th>\n      <th>agent_122_y</th>\n      <th>agent_123_x</th>\n      <th>agent_123_y</th>\n      <th>agent_124_x</th>\n      <th>agent_124_y</th>\n      <th>agent_125_x</th>\n      <th>agent_125_y</th>\n      <th>agent_126_x</th>\n      <th>agent_126_y</th>\n    </tr>\n  </thead>\n  <tbody>\n    <tr>\n      <th>0</th>\n      <td>31.744591</td>\n      <td>12.455993</td>\n      <td>40.163455</td>\n      <td>85.985943</td>\n      <td>35.494785</td>\n      <td>85.215741</td>\n      <td>64.715995</td>\n      <td>70.323100</td>\n      <td>27.158614</td>\n      <td>61.218276</td>\n      <td>...</td>\n      <td>64.496749</td>\n      <td>75.906102</td>\n      <td>37.500382</td>\n      <td>19.423036</td>\n      <td>72.494323</td>\n      <td>77.000884</td>\n      <td>12.127864</td>\n      <td>96.445825</td>\n      <td>80.227836</td>\n      <td>72.928070</td>\n    </tr>\n    <tr>\n      <th>1</th>\n      <td>31.694472</td>\n      <td>12.542527</td>\n      <td>40.099216</td>\n      <td>85.909304</td>\n      <td>35.436143</td>\n      <td>85.134740</td>\n      <td>64.622253</td>\n      <td>70.288281</td>\n      <td>27.074916</td>\n      <td>61.163554</td>\n      <td>...</td>\n      <td>64.406434</td>\n      <td>75.863169</td>\n      <td>37.433511</td>\n      <td>19.497389</td>\n      <td>72.402525</td>\n      <td>76.961223</td>\n      <td>12.146785</td>\n      <td>96.345930</td>\n      <td>80.132774</td>\n      <td>72.897034</td>\n    </tr>\n    <tr>\n      <th>2</th>\n      <td>31.644354</td>\n      <td>12.629061</td>\n      <td>40.034978</td>\n      <td>85.832666</td>\n      <td>35.377502</td>\n      <td>85.053739</td>\n      <td>64.528510</td>\n      <td>70.253462</td>\n      <td>26.991217</td>\n      <td>61.108832</td>\n      <td>...</td>\n      <td>64.316120</td>\n      <td>75.820236</td>\n      <td>37.366640</td>\n      <td>19.571741</td>\n      <td>72.310727</td>\n      <td>76.921561</td>\n      <td>12.165449</td>\n      <td>96.246037</td>\n      <td>80.037712</td>\n      <td>72.865998</td>\n    </tr>\n    <tr>\n      <th>3</th>\n      <td>31.594235</td>\n      <td>12.715595</td>\n      <td>39.970740</td>\n      <td>85.756028</td>\n      <td>35.318860</td>\n      <td>84.972738</td>\n      <td>64.434768</td>\n      <td>70.218644</td>\n      <td>26.907518</td>\n      <td>61.054110</td>\n      <td>...</td>\n      <td>64.225805</td>\n      <td>75.777303</td>\n      <td>37.299769</td>\n      <td>19.646093</td>\n      <td>72.218928</td>\n      <td>76.881899</td>\n      <td>12.183861</td>\n      <td>96.146147</td>\n      <td>79.942650</td>\n      <td>72.834962</td>\n    </tr>\n    <tr>\n      <th>4</th>\n      <td>31.544117</td>\n      <td>12.802129</td>\n      <td>39.906501</td>\n      <td>85.679389</td>\n      <td>35.260219</td>\n      <td>84.891737</td>\n      <td>64.341025</td>\n      <td>70.183825</td>\n      <td>26.823819</td>\n      <td>60.999388</td>\n      <td>...</td>\n      <td>64.135490</td>\n      <td>75.734370</td>\n      <td>37.232898</td>\n      <td>19.720445</td>\n      <td>72.127130</td>\n      <td>76.842237</td>\n      <td>12.202030</td>\n      <td>96.046258</td>\n      <td>79.847588</td>\n      <td>72.803926</td>\n    </tr>\n    <tr>\n      <th>...</th>\n      <td>...</td>\n      <td>...</td>\n      <td>...</td>\n      <td>...</td>\n      <td>...</td>\n      <td>...</td>\n      <td>...</td>\n      <td>...</td>\n      <td>...</td>\n      <td>...</td>\n      <td>...</td>\n      <td>...</td>\n      <td>...</td>\n      <td>...</td>\n      <td>...</td>\n      <td>...</td>\n      <td>...</td>\n      <td>...</td>\n      <td>...</td>\n      <td>...</td>\n      <td>...</td>\n    </tr>\n    <tr>\n      <th>4963</th>\n      <td>NaN</td>\n      <td>NaN</td>\n      <td>NaN</td>\n      <td>NaN</td>\n      <td>NaN</td>\n      <td>NaN</td>\n      <td>NaN</td>\n      <td>NaN</td>\n      <td>NaN</td>\n      <td>NaN</td>\n      <td>...</td>\n      <td>NaN</td>\n      <td>NaN</td>\n      <td>NaN</td>\n      <td>NaN</td>\n      <td>NaN</td>\n      <td>NaN</td>\n      <td>NaN</td>\n      <td>NaN</td>\n      <td>NaN</td>\n      <td>NaN</td>\n    </tr>\n    <tr>\n      <th>4964</th>\n      <td>NaN</td>\n      <td>NaN</td>\n      <td>NaN</td>\n      <td>NaN</td>\n      <td>NaN</td>\n      <td>NaN</td>\n      <td>NaN</td>\n      <td>NaN</td>\n      <td>NaN</td>\n      <td>NaN</td>\n      <td>...</td>\n      <td>NaN</td>\n      <td>NaN</td>\n      <td>NaN</td>\n      <td>NaN</td>\n      <td>NaN</td>\n      <td>NaN</td>\n      <td>NaN</td>\n      <td>NaN</td>\n      <td>NaN</td>\n      <td>NaN</td>\n    </tr>\n    <tr>\n      <th>4965</th>\n      <td>NaN</td>\n      <td>NaN</td>\n      <td>NaN</td>\n      <td>NaN</td>\n      <td>NaN</td>\n      <td>NaN</td>\n      <td>NaN</td>\n      <td>NaN</td>\n      <td>NaN</td>\n      <td>NaN</td>\n      <td>...</td>\n      <td>NaN</td>\n      <td>NaN</td>\n      <td>NaN</td>\n      <td>NaN</td>\n      <td>NaN</td>\n      <td>NaN</td>\n      <td>NaN</td>\n      <td>NaN</td>\n      <td>NaN</td>\n      <td>NaN</td>\n    </tr>\n    <tr>\n      <th>4966</th>\n      <td>NaN</td>\n      <td>NaN</td>\n      <td>NaN</td>\n      <td>NaN</td>\n      <td>NaN</td>\n      <td>NaN</td>\n      <td>NaN</td>\n      <td>NaN</td>\n      <td>NaN</td>\n      <td>NaN</td>\n      <td>...</td>\n      <td>NaN</td>\n      <td>NaN</td>\n      <td>NaN</td>\n      <td>NaN</td>\n      <td>NaN</td>\n      <td>NaN</td>\n      <td>NaN</td>\n      <td>NaN</td>\n      <td>NaN</td>\n      <td>NaN</td>\n    </tr>\n    <tr>\n      <th>4967</th>\n      <td>NaN</td>\n      <td>NaN</td>\n      <td>NaN</td>\n      <td>NaN</td>\n      <td>NaN</td>\n      <td>NaN</td>\n      <td>NaN</td>\n      <td>NaN</td>\n      <td>NaN</td>\n      <td>NaN</td>\n      <td>...</td>\n      <td>NaN</td>\n      <td>NaN</td>\n      <td>NaN</td>\n      <td>NaN</td>\n      <td>NaN</td>\n      <td>NaN</td>\n      <td>NaN</td>\n      <td>NaN</td>\n      <td>NaN</td>\n      <td>NaN</td>\n    </tr>\n  </tbody>\n</table>\n<p>4968 rows × 254 columns</p>\n</div>",
      "text/plain": "      agent_0_x  agent_0_y  agent_1_x  agent_1_y  agent_2_x  agent_2_y  \\\n0     31.744591  12.455993  40.163455  85.985943  35.494785  85.215741   \n1     31.694472  12.542527  40.099216  85.909304  35.436143  85.134740   \n2     31.644354  12.629061  40.034978  85.832666  35.377502  85.053739   \n3     31.594235  12.715595  39.970740  85.756028  35.318860  84.972738   \n4     31.544117  12.802129  39.906501  85.679389  35.260219  84.891737   \n...         ...        ...        ...        ...        ...        ...   \n4963        NaN        NaN        NaN        NaN        NaN        NaN   \n4964        NaN        NaN        NaN        NaN        NaN        NaN   \n4965        NaN        NaN        NaN        NaN        NaN        NaN   \n4966        NaN        NaN        NaN        NaN        NaN        NaN   \n4967        NaN        NaN        NaN        NaN        NaN        NaN   \n\n      agent_3_x  agent_3_y  agent_4_x  agent_4_y  ...  agent_122_x  \\\n0     64.715995  70.323100  27.158614  61.218276  ...    64.496749   \n1     64.622253  70.288281  27.074916  61.163554  ...    64.406434   \n2     64.528510  70.253462  26.991217  61.108832  ...    64.316120   \n3     64.434768  70.218644  26.907518  61.054110  ...    64.225805   \n4     64.341025  70.183825  26.823819  60.999388  ...    64.135490   \n...         ...        ...        ...        ...  ...          ...   \n4963        NaN        NaN        NaN        NaN  ...          NaN   \n4964        NaN        NaN        NaN        NaN  ...          NaN   \n4965        NaN        NaN        NaN        NaN  ...          NaN   \n4966        NaN        NaN        NaN        NaN  ...          NaN   \n4967        NaN        NaN        NaN        NaN  ...          NaN   \n\n      agent_122_y  agent_123_x  agent_123_y  agent_124_x  agent_124_y  \\\n0       75.906102    37.500382    19.423036    72.494323    77.000884   \n1       75.863169    37.433511    19.497389    72.402525    76.961223   \n2       75.820236    37.366640    19.571741    72.310727    76.921561   \n3       75.777303    37.299769    19.646093    72.218928    76.881899   \n4       75.734370    37.232898    19.720445    72.127130    76.842237   \n...           ...          ...          ...          ...          ...   \n4963          NaN          NaN          NaN          NaN          NaN   \n4964          NaN          NaN          NaN          NaN          NaN   \n4965          NaN          NaN          NaN          NaN          NaN   \n4966          NaN          NaN          NaN          NaN          NaN   \n4967          NaN          NaN          NaN          NaN          NaN   \n\n      agent_125_x  agent_125_y  agent_126_x  agent_126_y  \n0       12.127864    96.445825    80.227836    72.928070  \n1       12.146785    96.345930    80.132774    72.897034  \n2       12.165449    96.246037    80.037712    72.865998  \n3       12.183861    96.146147    79.942650    72.834962  \n4       12.202030    96.046258    79.847588    72.803926  \n...           ...          ...          ...          ...  \n4963          NaN          NaN          NaN          NaN  \n4964          NaN          NaN          NaN          NaN  \n4965          NaN          NaN          NaN          NaN  \n4966          NaN          NaN          NaN          NaN  \n4967          NaN          NaN          NaN          NaN  \n\n[4968 rows x 254 columns]"
     },
     "execution_count": 57,
     "metadata": {},
     "output_type": "execute_result"
    }
   ],
   "source": [
    "# for i, j in zip(range(len(df.columns)), range(0, len(df.columns), 2)):\n",
    "#     colname = f\"agent_{i}_left\"\n",
    "#     df[colname] = df.apply(lambda x: agent_left(df[df.columns[j]], df[df.columns[j+1]]), axis=0)\n",
    "df"
   ]
  },
  {
   "cell_type": "code",
   "execution_count": null,
   "metadata": {},
   "outputs": [],
   "source": []
  }
 ],
 "metadata": {
  "kernelspec": {
   "display_name": "Python 3.9.5 64-bit",
   "name": "python395jvsc74a57bd031f2aee4e71d21fbe5cf8b01ff0e069b9275f58929596ceb00d14d90e3e16cd6"
  },
  "language_info": {
   "codemirror_mode": {
    "name": "ipython",
    "version": 3
   },
   "file_extension": ".py",
   "mimetype": "text/x-python",
   "name": "python",
   "nbconvert_exporter": "python",
   "pygments_lexer": "ipython3",
   "version": "3.9.5"
  },
  "metadata": {
   "interpreter": {
    "hash": "31f2aee4e71d21fbe5cf8b01ff0e069b9275f58929596ceb00d14d90e3e16cd6"
   }
  },
  "orig_nbformat": 2
 },
 "nbformat": 4,
 "nbformat_minor": 2
}