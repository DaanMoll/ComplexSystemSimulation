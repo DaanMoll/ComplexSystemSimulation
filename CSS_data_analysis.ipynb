{
 "cells": [
  {
   "cell_type": "code",
   "execution_count": 13,
   "metadata": {
    "colab": {
     "base_uri": "https://localhost:8080/"
    },
    "id": "dTHVM4IpEW3Q",
    "outputId": "a6b6ac0d-aa15-478b-89df-01f622f79660"
   },
   "outputs": [
    {
     "data": {
      "text/plain": [
       "(972, 46)"
      ]
     },
     "execution_count": 13,
     "metadata": {},
     "output_type": "execute_result"
    }
   ],
   "source": [
    "import pandas as pd\n",
    "import matplotlib.pyplot as plt\n",
    "import io\n",
    "# read the credit application file\n",
    "css1 = pd.read_csv('density=0.01.csv')\n",
    "css1.head()\n",
    "css1.shape"
   ]
  },
  {
   "cell_type": "code",
   "execution_count": 2,
   "metadata": {
    "colab": {
     "base_uri": "https://localhost:8080/"
    },
    "id": "9J3K2PBQFpmD",
    "outputId": "9508d3ca-245a-454d-e62f-2dcb174c03cf"
   },
   "outputs": [
    {
     "data": {
      "text/plain": [
       "Index(['timestep', 'agent_0_x', 'agent_0_y', 'agent_0_orig_distance',\n",
       "       'agent_1_x', 'agent_1_y', 'agent_1_orig_distance', 'agent_2_x',\n",
       "       'agent_2_y', 'agent_2_orig_distance', 'agent_3_x', 'agent_3_y',\n",
       "       'agent_3_orig_distance', 'agent_4_x', 'agent_4_y',\n",
       "       'agent_4_orig_distance', 'agent_5_x', 'agent_5_y',\n",
       "       'agent_5_orig_distance', 'agent_6_x', 'agent_6_y',\n",
       "       'agent_6_orig_distance', 'agent_7_x', 'agent_7_y',\n",
       "       'agent_7_orig_distance', 'agent_8_x', 'agent_8_y',\n",
       "       'agent_8_orig_distance', 'agent_9_x', 'agent_9_y',\n",
       "       'agent_9_orig_distance', 'agent_10_x', 'agent_10_y',\n",
       "       'agent_10_orig_distance', 'agent_11_x', 'agent_11_y',\n",
       "       'agent_11_orig_distance', 'agent_12_x', 'agent_12_y',\n",
       "       'agent_12_orig_distance', 'gate0_x', 'gate0_y', 'gate0_orig_distance',\n",
       "       'gate1_x', 'gate1_y', 'gate1_orig_distance'],\n",
       "      dtype='object')"
      ]
     },
     "execution_count": 2,
     "metadata": {},
     "output_type": "execute_result"
    }
   ],
   "source": [
    "css1.columns"
   ]
  },
  {
   "cell_type": "code",
   "execution_count": 6,
   "metadata": {
    "colab": {
     "base_uri": "https://localhost:8080/",
     "height": 229
    },
    "id": "W3L5fWGaFyGf",
    "outputId": "3bcc855d-012c-4bdf-c037-f60c63abb061"
   },
   "outputs": [
    {
     "name": "stdout",
     "output_type": "stream",
     "text": [
      "agent_1_x\n",
      "agent_2_x\n",
      "agent_3_x\n",
      "agent_4_x\n",
      "agent_5_x\n",
      "agent_6_x\n",
      "agent_7_x\n",
      "agent_8_x\n",
      "agent_9_x\n",
      "agent_10_x\n",
      "agent_11_x\n",
      "agent_12_x\n",
      "['agent_0_x', 'agent_1_x', 'agent_2_x', 'agent_3_x', 'agent_4_x', 'agent_5_x', 'agent_6_x', 'agent_7_x', 'agent_8_x', 'agent_9_x', 'agent_10_x', 'agent_11_x', 'agent_12_x']\n"
     ]
    }
   ],
   "source": [
    "column_x = []\n",
    "column_x.append('agent_0_x')\n",
    "\n",
    "for i in range(1,37,3):\n",
    "  i=i+3\n",
    "  print(css1.columns[i])\n",
    "  column_x.append(css1.columns[i])\n",
    "print(column_x)"
   ]
  },
  {
   "cell_type": "code",
   "execution_count": 7,
   "metadata": {
    "id": "Fc0wkZ9QucPY"
   },
   "outputs": [
    {
     "name": "stdout",
     "output_type": "stream",
     "text": [
      "[879, 693, 634, 0, 806, 557, 530, 608, 485, 436, 744, 377, 321]\n"
     ]
    },
    {
     "data": {
      "text/plain": [
       "13"
      ]
     },
     "execution_count": 7,
     "metadata": {},
     "output_type": "execute_result"
    }
   ],
   "source": [
    "nan_list = []\n",
    "for x in column_x:\n",
    "  nan_list.append(css1[x].isna().idxmax(1))\n",
    "print(nan_list)\n",
    "len(nan_list)"
   ]
  },
  {
   "cell_type": "code",
   "execution_count": 10,
   "metadata": {
    "id": "OQP5CsyF3Lzc"
   },
   "outputs": [
    {
     "data": {
      "text/html": [
       "<div>\n",
       "<style scoped>\n",
       "    .dataframe tbody tr th:only-of-type {\n",
       "        vertical-align: middle;\n",
       "    }\n",
       "\n",
       "    .dataframe tbody tr th {\n",
       "        vertical-align: top;\n",
       "    }\n",
       "\n",
       "    .dataframe thead th {\n",
       "        text-align: right;\n",
       "    }\n",
       "</style>\n",
       "<table border=\"1\" class=\"dataframe\">\n",
       "  <thead>\n",
       "    <tr style=\"text-align: right;\">\n",
       "      <th></th>\n",
       "      <th>timestep</th>\n",
       "      <th>agent</th>\n",
       "    </tr>\n",
       "  </thead>\n",
       "  <tbody>\n",
       "    <tr>\n",
       "      <th>0</th>\n",
       "      <td>879</td>\n",
       "      <td>1</td>\n",
       "    </tr>\n",
       "    <tr>\n",
       "      <th>1</th>\n",
       "      <td>693</td>\n",
       "      <td>2</td>\n",
       "    </tr>\n",
       "    <tr>\n",
       "      <th>2</th>\n",
       "      <td>634</td>\n",
       "      <td>3</td>\n",
       "    </tr>\n",
       "    <tr>\n",
       "      <th>3</th>\n",
       "      <td>0</td>\n",
       "      <td>4</td>\n",
       "    </tr>\n",
       "    <tr>\n",
       "      <th>4</th>\n",
       "      <td>806</td>\n",
       "      <td>5</td>\n",
       "    </tr>\n",
       "    <tr>\n",
       "      <th>5</th>\n",
       "      <td>557</td>\n",
       "      <td>6</td>\n",
       "    </tr>\n",
       "    <tr>\n",
       "      <th>6</th>\n",
       "      <td>530</td>\n",
       "      <td>7</td>\n",
       "    </tr>\n",
       "    <tr>\n",
       "      <th>7</th>\n",
       "      <td>608</td>\n",
       "      <td>8</td>\n",
       "    </tr>\n",
       "    <tr>\n",
       "      <th>8</th>\n",
       "      <td>485</td>\n",
       "      <td>9</td>\n",
       "    </tr>\n",
       "    <tr>\n",
       "      <th>9</th>\n",
       "      <td>436</td>\n",
       "      <td>10</td>\n",
       "    </tr>\n",
       "    <tr>\n",
       "      <th>10</th>\n",
       "      <td>744</td>\n",
       "      <td>11</td>\n",
       "    </tr>\n",
       "    <tr>\n",
       "      <th>11</th>\n",
       "      <td>377</td>\n",
       "      <td>12</td>\n",
       "    </tr>\n",
       "    <tr>\n",
       "      <th>12</th>\n",
       "      <td>321</td>\n",
       "      <td>13</td>\n",
       "    </tr>\n",
       "  </tbody>\n",
       "</table>\n",
       "</div>"
      ],
      "text/plain": [
       "    timestep  agent\n",
       "0        879      1\n",
       "1        693      2\n",
       "2        634      3\n",
       "3          0      4\n",
       "4        806      5\n",
       "5        557      6\n",
       "6        530      7\n",
       "7        608      8\n",
       "8        485      9\n",
       "9        436     10\n",
       "10       744     11\n",
       "11       377     12\n",
       "12       321     13"
      ]
     },
     "execution_count": 10,
     "metadata": {},
     "output_type": "execute_result"
    }
   ],
   "source": [
    "df_nan = pd.DataFrame(nan_list)\n",
    "df_nan['agent']=df_nan.index+1\n",
    "df_nan.columns=['timestep','agent']\n",
    "df_nan"
   ]
  },
  {
   "cell_type": "code",
   "execution_count": 14,
   "metadata": {
    "id": "ttlJbdzt445M"
   },
   "outputs": [
    {
     "data": {
      "image/png": "[encoded data removed]",
      "text/plain": [
       "<Figure size 432x288 with 1 Axes>"
      ]
     },
     "metadata": {
      "needs_background": "light"
     },
     "output_type": "display_data"
    }
   ],
   "source": [
    "df_nan.plot(x='agent',y='timestep',kind='scatter')\n",
    "plt.show()"
   ]
  },
  {
   "cell_type": "code",
   "execution_count": null,
   "metadata": {
    "id": "vy8ac8qf1Du6"
   },
   "outputs": [],
   "source": []
  }
 ],
 "metadata": {
  "colab": {
   "name": "CSS.ipynb",
   "provenance": []
  },
  "kernelspec": {
   "display_name": "Python 3",
   "language": "python",
   "name": "python3"
  },
  "language_info": {
   "codemirror_mode": {
    "name": "ipython",
    "version": 3
   },
   "file_extension": ".py",
   "mimetype": "text/x-python",
   "name": "python",
   "nbconvert_exporter": "python",
   "pygments_lexer": "ipython3",
   "version": "3.8.5"
  }
 },
 "nbformat": 4,
 "nbformat_minor": 1
}
